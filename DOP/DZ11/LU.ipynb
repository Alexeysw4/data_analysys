{
 "cells": [
  {
   "cell_type": "markdown",
   "metadata": {
    "colab_type": "text",
    "id": "ixjV8P1IZS23"
   },
   "source": [
    "# Системы линейных уравнений. "
   ]
  },
  {
   "cell_type": "markdown",
   "metadata": {
    "colab_type": "text",
    "id": "40aj3lJuZS25"
   },
   "source": [
    "Система линейных алгебраических уравнений (СЛАУ) имеет вид: \n",
    "\n",
    "$$\\begin{cases}\n",
    "a_{11}x_{1}+a_{12}x_{2}+...+a_{1n}x_{n}=b_{1}, \\\\\n",
    "a_{21}x_{1}+a_{22}x_{2}+...+a_{2n}x_{n}=b_{2}, \\\\\n",
    "... \\\\\n",
    "a_{m1}x_{1}+a_{m2}x_{2}+...+a_{mn}x_{n}=b_{m}, \\\\\n",
    "\\end{cases}$$\n",
    "\n",
    "при этом через $x_{1},x_{2},...,x_{n}$ обозначены неизвестные, подлежащие определению, величины $a_{11},a_{12},...,a_{mn}$, называемые _коэффициентами системы_, и $b_{1},b_{2},...,b_{m}$, называемые _свободными членами_, предполагаются известными."
   ]
  },
  {
   "cell_type": "markdown",
   "metadata": {
    "colab_type": "text",
    "id": "GkS9zuaoZS27"
   },
   "source": [
    "_Решением_ системы называется такая совокупность $n$ чисел $c_{1},c_{2},...,c_{n}$, которая при подстановке в систему вместо неизвестных $x_{1},x_{2},...,x_{n}$ обращает все уравнения в тождества."
   ]
  },
  {
   "cell_type": "markdown",
   "metadata": {
    "colab_type": "text",
    "id": "TpJOoPfjZS29"
   },
   "source": [
    "Данную систему также можно записать в _матричной форме_ с использованием следующих матриц:\n",
    "\n",
    "- матрица коэффициентов системы\n",
    "\n",
    "$$A=\\begin{pmatrix}\n",
    "a_{11} & a_{12} & \\cdots & a_{1n}\\\\ \n",
    "a_{21} & a_{22} & \\cdots & a_{2n}\\\\ \n",
    "\\cdots & \\cdots & \\ddots & \\cdots\\\\ \n",
    "a_{m1} & a_{m2} & \\cdots & a_{mn}\n",
    "\\end{pmatrix};$$\n",
    "\n",
    "- вектор-столбец неизвестных\n",
    "\n",
    "$$x=\\begin{pmatrix}\n",
    "x_{1}\\\\ \n",
    "x_{2}\\\\ \n",
    "\\cdots \\\\ \n",
    "x_{n}\n",
    "\\end{pmatrix};$$\n",
    "\n",
    "- вектор-столбец правых частей (свободных членов системы)\n",
    "\n",
    "$$b=\\begin{pmatrix}\n",
    "b_{1}\\\\ \n",
    "b_{2}\\\\ \n",
    "\\cdots \\\\ \n",
    "b_{m}\n",
    "\\end{pmatrix}.$$\n",
    "\n",
    "В таком случае система будет выглядеть как выражение \n",
    "\n",
    "$$Ax=b.$$"
   ]
  },
  {
   "cell_type": "markdown",
   "metadata": {
    "colab_type": "text",
    "id": "N4d1XXASZS2-"
   },
   "source": [
    "Если $b_{1}=b_{2}=...=b_{m}=0$, то такая система линейных уравнений называется _однородной_. Если хотя бы один из элементов вектор-столбца правых частей отличен от нуля, система называется _неоднородной_."
   ]
  },
  {
   "cell_type": "markdown",
   "metadata": {
    "colab_type": "text",
    "id": "HFeVoZ9JZS2_"
   },
   "source": [
    "Матрица\n",
    "\n",
    "\n",
    "$$\\tilde{A}=\\begin{pmatrix}\n",
    "\\left.\\begin{matrix}\n",
    "a_{11} & a_{12} & \\cdots & a_{1n}\\\\ \n",
    "a_{21} & a_{22} & \\cdots & a_{2n}\\\\ \n",
    "\\cdots & \\cdots & \\ddots & \\cdots\\\\ \n",
    "a_{m1} & a_{m2} & \\cdots & a_{mn}\n",
    "\\end{matrix}\\right|\n",
    "\\begin{matrix}\n",
    "b_{1}\\\\ \n",
    "b_{2}\\\\\n",
    "\\cdots\\\\\n",
    "b_{m}\n",
    "\\end{matrix}\n",
    "\\end{pmatrix},$$\n",
    "\n",
    "полученная присоединением вектор-столбца свободных членов к матрице коэффициентов называется _расширенной матрицей_ системы уравнений."
   ]
  },
  {
   "cell_type": "markdown",
   "metadata": {
    "colab_type": "text",
    "id": "-OzTpDrQZS3B"
   },
   "source": [
    "## Метод Гаусса"
   ]
  },
  {
   "cell_type": "markdown",
   "metadata": {
    "colab_type": "text",
    "id": "vsnWFgQDZS3C"
   },
   "source": [
    "Одним из самых универсальных, простых и распространенных методов решения систем линейных уравнений является _метод Гаусса_. \n",
    "\n",
    "Этот метод также иногда называется _методом исключения неизвестных_. Он заключается в решении системы методом приведения ее к наиболее простому виду путем элементарных преобразований. Под наиболее простым видом здесь понимается _ступенчатая_ форма:\n",
    "\n",
    "$$\\begin{pmatrix}\n",
    "\\left.\\begin{matrix}\n",
    "a_{11} & a_{12} & \\cdots & a_{1n}\\\\ \n",
    "a_{21} & a_{22} & \\cdots & a_{2n}\\\\ \n",
    "\\cdots & \\cdots & \\ddots & \\cdots\\\\ \n",
    "a_{m1} & a_{m2} & \\cdots & a_{mn}\n",
    "\\end{matrix}\\right|\n",
    "\\begin{matrix}\n",
    "b_{1}\\\\ \n",
    "b_{2}\\\\\n",
    "\\cdots\\\\\n",
    "b_{m}\n",
    "\\end{matrix}\n",
    "\\end{pmatrix}\n",
    "\\rightarrow\n",
    "\\begin{pmatrix}\n",
    "\\left.\\begin{matrix}\n",
    "a'_{11} & a'_{12} & \\cdots & a'_{1n}\\\\ \n",
    "0 & a'_{22} & \\cdots & a'_{2n}\\\\ \n",
    "\\cdots & \\cdots & \\ddots & \\cdots\\\\ \n",
    "0 & 0 & \\cdots & a'_{mn}\n",
    "\\end{matrix}\\right|\n",
    "\\begin{matrix}\n",
    "b'_{1}\\\\ \n",
    "b'_{2}\\\\\n",
    "\\cdots\\\\\n",
    "b'_{m}\n",
    "\\end{matrix}\n",
    "\\end{pmatrix}.$$"
   ]
  },
  {
   "cell_type": "markdown",
   "metadata": {
    "colab_type": "text",
    "id": "umhWKl1WZS3D"
   },
   "source": [
    "Опишем алгоритм метода для системы вида\n",
    "\n",
    "$$\\begin{cases}\n",
    "a_{11}x_{1}+a_{12}x_{2}+...+a_{1n}x_{n}=b_{1}, \\\\\n",
    "a_{21}x_{1}+a_{22}x_{2}+...+a_{2n}x_{n}=b_{2}, \\\\\n",
    "... \\\\\n",
    "a_{n1}x_{1}+a_{n2}x_{2}+...+a_{nn}x_{n}=b_{n}. \\\\\n",
    "\\end{cases}$$\n",
    "\n",
    "Приведем систему к требуемому виду путем последовательного исключения неизвестных."
   ]
  },
  {
   "cell_type": "markdown",
   "metadata": {
    "colab_type": "text",
    "id": "1v5oGfQIZS3E"
   },
   "source": [
    "Допустим, что коэффициент $a_{11}\\neq0$. Разделим коэффициенты первого из уравнений (включая и свободный член) на коэффициент $a_{11}$, который мы будем называть ведущим элементом (1-го шага) для получения единичного коэффициента у неизвестной $x_{11}$ и обозначим\n",
    "\n",
    "$$a'_{1j}=\\frac{a_{1j}}{a_{11}}~(j>1),$$\n",
    "\n",
    "$$b'_{1}=\\frac{b_{1}}{a_{11}}.$$\n",
    "\n",
    "Получим новое уравнение на месте первого:\n",
    "\n",
    "$$x_{1}+a'_{12}x_{2}+...+a'_{1n}x_{n}=b'_{1}.$$"
   ]
  },
  {
   "cell_type": "markdown",
   "metadata": {
    "colab_type": "text",
    "id": "M_w6CtEkZS3G"
   },
   "source": [
    "Далее исключим $x_{1}$ из всех последующих уравнений посредством вычитания из этих уравнений полученного первого уравнения, умноженного соответственно на числа $a_{21}, a_{31},...,a_{n1}$. Преобразованные уравнения будут иметь вид\n",
    "\n",
    "$$a_{22}^{(1)}x_{2}+...+a_{2n}^{(1)}x_{n}=b_{2}^{(1)},$$\n",
    "$$...$$\n",
    "$$a_{n2}^{(1)}x_{2}+...+a_{nn}^{(1)}x_{n}=b_{n}^{(1)},$$\n",
    "\n",
    "где\n",
    "\n",
    "$$a_{ij}^{(1)}=a_{ij}-a_{i1}a'_{1j}~~~~(i,j\\geq2),$$\n",
    "$$b_{i}^{(1)}=b_{i}-a_{i1}b'_{1}.$$"
   ]
  },
  {
   "cell_type": "markdown",
   "metadata": {
    "colab_type": "text",
    "id": "e_b6gU3CZS3H"
   },
   "source": [
    "Далее разделим коэффициенты первого из преобразованных уравнений на ведущий элемент 2-го шага $a_{22}^{1}$, который будем считать отличным от нуля. Получим второе уравнение системы:\n",
    "\n",
    "$$x_{2}+a'_{23}x_{3}+...+a'_{2n}x_{n}=b'_{2},$$\n",
    "\n",
    "где\n",
    "\n",
    "$$a'_{2j}=\\frac{a_{2j}^{(1)}}{a_{22}^{(1)}}, ~ b'_{2}=\\frac{b_{2}^{(1)}}{a_{22}^{(1)}}.$$"
   ]
  },
  {
   "cell_type": "markdown",
   "metadata": {
    "colab_type": "text",
    "id": "Gy6JMYupZS3I"
   },
   "source": [
    "Далее, аналогично исключая $x_{2}$ из уравнений, начиная с третьего, получим\n",
    "\n",
    "$$a_{32}^{(2)}x_{3}+...+a_{3n}^{(2)}x_{n}=b_{3}^{(2)},$$\n",
    "$$...$$\n",
    "$$a_{n3}^{(2)}x_{3}+...+a_{nn}^{(2)}x_{n}=b_{n}^{(2)},$$\n",
    "\n",
    "где\n",
    "\n",
    "$$a_{ij}^{(2)}=a_{ij}^{(1)}-a_{i2}^{(1)}a'_{2j}~~~~(i,j\\geq3),$$\n",
    "$$b_{i}^{(2)}=b_{i}^{(1)}-a_{i2}^{(1)}b'_{2}.$$"
   ]
  },
  {
   "cell_type": "markdown",
   "metadata": {
    "colab_type": "text",
    "id": "wTxh9_2JZS3J"
   },
   "source": [
    "Продолжая процесс по заданной схеме, на $k$-м шагу получим\n",
    "\n",
    "\n",
    "$$x_{k}+a'_{kk+1}x_{k+1}+...+a'_{kn}x_{n}=b'_{k},$$\n",
    "$$a_{k+1k+1}^{(k)}x_{k+1}+...+a_{k+1n}^{(k)}x_{n}=b_{k+1}^{(k)},$$\n",
    "$$...$$\n",
    "$$a_{nk+1}^{(k)}x_{k+1}+...+a_{nn}^{(k)}x_{n}=b_{n}^{(k)},$$\n",
    "\n",
    "где\n",
    "\n",
    "$$a'_{kj}=\\frac{a_{kj}^{(k-1)}}{a_{kk}^{(k-1)}} ~~~~~(j\\geq k+1),$$\n",
    "\n",
    "$$b'_{k}=\\frac{b_{k}^{(k-1)}}{a_{kk}^{(k-1)}},$$\n",
    "\n",
    "$$a_{ij}^{(k)}=a_{ij}^{(k-1)}-a_{ik}^{(k-1)}a'_{kj},$$\n",
    "\n",
    "$$b_{i}^{(k)}=b_{i}^{(k-1)}-a_{ik}^{(k-1)}b'_{k}.$$"
   ]
  },
  {
   "cell_type": "markdown",
   "metadata": {
    "colab_type": "text",
    "id": "7SpqIuvEZS3K"
   },
   "source": [
    "После полного прохода по системе уравнений получим систему\n",
    "\n",
    "$$\\begin{cases}\n",
    "x_{1}+a'_{12}x_{2}+a'_{13}x_{3}+...+a'_{1n}x_{n}=b'_{1}, \\\\\n",
    "~~~~~~~~~~~~~x_{2}+a'_{23}x_{3}+...+a'_{2n}x_{n}=b'_{2}, \\\\\n",
    "~~~~~~~~~~~~~.......................... \\\\\n",
    "~~~~~~~~~~~~~~~~~~~~~~~~~~~~~~~~~~~~~~~~~~~~~x_{n}=b'_{n},\n",
    "\\end{cases}$$\n",
    "\n",
    "эквивалентную исходной системе. Эта система будет иметь треугольную матрицу коэффициентов. \n",
    "\n",
    "Стоит отметить, что этот процесс возможен только при условии неравенства нулю всех ведущих элементов $a_{kk}^{(k-1)}$, так как по ходу процесса мы производим деление на них."
   ]
  },
  {
   "cell_type": "markdown",
   "metadata": {
    "colab_type": "text",
    "id": "SZ5mXQjJZS3M"
   },
   "source": [
    "Из полученной системы послеовательно находим значения неизвестных от $x_{n}$ до $x_{1}$ по формулам\n",
    "\n",
    "$$x_{k}=b'_{k}-a'_{kk+1}x_{k+1}-...-a'_{kn}x_{n}.$$"
   ]
  },
  {
   "cell_type": "markdown",
   "metadata": {
    "colab_type": "text",
    "id": "J5XYTnVAZS3N"
   },
   "source": [
    "Подытожим, что метод Гаусса состоит из двух частей: сначала для данной системы мы строим треугольную систему, а затем решаем ее. Процессс нахождения коэффициентов треугольной матрицы называется _прямым ходом_, а процесс получения решения — _обратным ходом_, так как мы сначала движемся сверху вниз по исходной матрице, а потом снизу вверх по полученной треугольной."
   ]
  },
  {
   "cell_type": "markdown",
   "metadata": {
    "colab_type": "text",
    "id": "elDDKCnnZS3O"
   },
   "source": [
    "Второй способ реализации метода Гаусса — работа с элементарными преобразованиями расширенной матрицы системы для приведения ее к ступенчатому виду.\n",
    "\n",
    "Мы уже имели дело с элементарными преобразованиями при нахождении ранга матриц. В данном случае допустимы преобразования __только строк__ следующего вида:\n",
    "\n",
    "- переставление строк местами;\n",
    "\n",
    "- умножение (деление) строки на любое отличное от нуля число;\n",
    "\n",
    "- прибавление к строке матрицы другой строки, умноженной на отличное от нуля число (при этом изменяется только строка, __к которой прибавляют__);\n",
    "\n",
    "- при появлении пропорциональных (или одинаковых) строк — удаление всех их кроме одной;\n",
    "\n",
    "- удаление нулевых строк (таких, в которых в процессе элементарных преобразований обнулились все элементы).\n",
    "\n",
    "Такие преобразования не будут менять решение системы."
   ]
  },
  {
   "cell_type": "markdown",
   "metadata": {
    "colab_type": "text",
    "id": "cHqV1pm2ZS3P"
   },
   "source": [
    "После приведения матрицы к ступенчатому виду производится обратный ход метода Гаусса, как и в предыдущей реализации алгоритма."
   ]
  },
  {
   "cell_type": "markdown",
   "metadata": {
    "colab_type": "text",
    "id": "EcENQ8i0ZS3R"
   },
   "source": [
    "Алгоритм выглядит достаточно сложным, однако после нескольких примеров станет ясно, что реализовать его на практике очень просто."
   ]
  },
  {
   "cell_type": "markdown",
   "metadata": {
    "colab_type": "text",
    "id": "oaxNO7zeZS3S"
   },
   "source": [
    "__Пример 1__\n",
    "\n",
    "Решить систему уравнений:\n",
    "\n",
    "$$\\begin{cases}\n",
    "2x_{1}+x_{2}+x_{3}=5, \\\\\n",
    "4x_{1}-6x_{2}=-2, \\\\\n",
    "-2x_{1}+7x_{2}+2x_{3}=9.\n",
    "\\end{cases}$$"
   ]
  },
  {
   "cell_type": "markdown",
   "metadata": {
    "colab_type": "text",
    "id": "y1n3pweJZS3T"
   },
   "source": [
    "Запишем расширенную матрицу системы:\n",
    "\n",
    "$$\\begin{pmatrix}\n",
    "\\left.\\begin{matrix}\n",
    "2 & 1 & 1 \\\\ \n",
    "4 & -6 & 0 \\\\ \n",
    "-2 & 7 & 2\n",
    "\\end{matrix}\\right|\n",
    "\\begin{matrix}\n",
    "5\\\\ \n",
    "-2\\\\\n",
    "9\n",
    "\\end{matrix}\n",
    "\\end{pmatrix}.$$\n",
    "\n",
    "Путем элементарных преобразований постараемся привести матрицу к ступенчатому виду.\n",
    "\n",
    "Вычтем из второй строки первую, умноженную на 2:\n",
    "\n",
    "$$\\begin{pmatrix}\n",
    "\\left.\\begin{matrix}\n",
    "2 & 1 & 1 \\\\ \n",
    "0 & -8 & -2 \\\\ \n",
    "-2 & 7 & 2\n",
    "\\end{matrix}\\right|\n",
    "\\begin{matrix}\n",
    "5\\\\ \n",
    "-12\\\\\n",
    "9\n",
    "\\end{matrix}\n",
    "\\end{pmatrix}.$$\n",
    "\n",
    "Прибавим к третьей строке первую:\n",
    "\n",
    "$$\\begin{pmatrix}\n",
    "\\left.\\begin{matrix}\n",
    "2 & 1 & 1 \\\\ \n",
    "0 & -8 & -2 \\\\ \n",
    "0 & 8 & 3\n",
    "\\end{matrix}\\right|\n",
    "\\begin{matrix}\n",
    "5\\\\ \n",
    "-12\\\\\n",
    "14\n",
    "\\end{matrix}\n",
    "\\end{pmatrix}.$$\n",
    "\n",
    "И прибавим к третьему уравнению второе:\n",
    "\n",
    "$$\\begin{pmatrix}\n",
    "\\left.\\begin{matrix}\n",
    "2 & 1 & 1 \\\\ \n",
    "0 & -8 & -2 \\\\ \n",
    "0 & 0 & 1\n",
    "\\end{matrix}\\right|\n",
    "\\begin{matrix}\n",
    "5\\\\ \n",
    "-12\\\\\n",
    "2\n",
    "\\end{matrix}\n",
    "\\end{pmatrix}.$$"
   ]
  },
  {
   "cell_type": "markdown",
   "metadata": {
    "colab_type": "text",
    "id": "dwCOyvgxZS3U"
   },
   "source": [
    "В итоге после преобразований мы получили матрицу треугольного вида, которая представляет следующую систему:\n",
    "\n",
    "$$\\begin{cases}\n",
    "2x_{1}+x_{2}+x_{3}=5, \\\\\n",
    "~~-8x_{2}-2x_{3}=-12, \\\\\n",
    "~~~~~~~~~~~~~~~~~~~~x_{3}=2.\n",
    "\\end{cases}$$\n",
    "\n",
    "Проводя обратный ход метода Гаусса, последовательн подставляя известные значения в уравнения, получим\n",
    "\n",
    "$$x_{3}=2.$$\n",
    "\n",
    "Подставим $x_{3}$ во второе уравнение:\n",
    "$$-8x_{2} - 2\\cdot 2=-12\\Rightarrow x_{2}=1,$$\n",
    "\n",
    "а затем полученные $x_{2}$ и $x_{3}$ — в первое уравнение:\n",
    "$$2x_{1}+1+2=5\\Rightarrow x_{1}=1.$$"
   ]
  },
  {
   "cell_type": "markdown",
   "metadata": {
    "colab_type": "text",
    "id": "U9G_xQuAZS3V"
   },
   "source": [
    "Если подставить полученные значения неизвестных в исходную систему, несложно убедиться, что все выражения обращаются в тождества:\n",
    "\n",
    "$$\\begin{cases}\n",
    "2\\cdot1+1+2=5,\\\\\n",
    "4\\cdot1-6\\cdot1=-2,\\\\\n",
    "-2\\cdot1+7\\cdot1+2\\cdot2=9.\n",
    "\\end{cases}$$"
   ]
  },
  {
   "cell_type": "markdown",
   "metadata": {
    "colab_type": "text",
    "id": "0fHmN3j1ZS3X"
   },
   "source": [
    "__Пример 2__\n",
    "\n",
    "Решить систему уравнений\n",
    "\n",
    "$$\\begin{cases}\n",
    "x_{1}+x_{2}-x_{3}=0, \\\\\n",
    "2x_{1}-x_{2}-x_{3}=-2, \\\\\n",
    "4x_{1}+x_{2}-3x_{3}=9.\n",
    "\\end{cases}$$"
   ]
  },
  {
   "cell_type": "markdown",
   "metadata": {
    "colab_type": "text",
    "id": "3xpWiWEMZS3Y"
   },
   "source": [
    "Преобразуем расширенную матрицу системы путем элементарных преобразований:\n",
    "\n",
    "$$\\begin{pmatrix}\n",
    "\\left.\\begin{matrix}\n",
    "1 & 1 & -1 \\\\ \n",
    "2 & -1 & -1 \\\\ \n",
    "4 & 1 & -3\n",
    "\\end{matrix}\\right|\n",
    "\\begin{matrix}\n",
    "0\\\\ \n",
    "-2\\\\\n",
    "9\n",
    "\\end{matrix}\n",
    "\\end{pmatrix}.$$\n",
    "\n",
    "Вычтем из второй строки первую, умноженную на 2 и из третьей строки первую, умноженную на 4:\n",
    "\n",
    "$$\\begin{pmatrix}\n",
    "\\left.\\begin{matrix}\n",
    "1 & 1 & -1 \\\\ \n",
    "0 & -3 & 1 \\\\ \n",
    "0 & -3 & 1\n",
    "\\end{matrix}\\right|\n",
    "\\begin{matrix}\n",
    "0\\\\ \n",
    "-2\\\\\n",
    "9\n",
    "\\end{matrix}\n",
    "\\end{pmatrix}.$$\n",
    "\n",
    "И вычтем из третьей строки вторую:\n",
    "\n",
    "$$\\begin{pmatrix}\n",
    "\\left.\\begin{matrix}\n",
    "1 & 1 & -1 \\\\ \n",
    "0 & -3 & 1 \\\\ \n",
    "0 & 0 & 0\n",
    "\\end{matrix}\\right|\n",
    "\\begin{matrix}\n",
    "0\\\\ \n",
    "-2\\\\\n",
    "11\n",
    "\\end{matrix}\n",
    "\\end{pmatrix}.$$\n",
    "\n",
    "Третья строка получившейся матрицы соответствует уравнению\n",
    "\n",
    "$$0\\cdot x_{1}+0\\cdot x_{2}+0\\cdot x_{3}=11 \\; \\Leftrightarrow \\; 0=11.$$\n",
    "\n",
    "Полученное равенство не имеет смысла, а значит, система решений не имеет."
   ]
  },
  {
   "cell_type": "markdown",
   "metadata": {
    "colab_type": "text",
    "id": "f4WDi0XfZS3Z"
   },
   "source": [
    "Этот пример иллюстрирует нам важный случай, на который следует обратить особое внимание: _если в результате элементарных преобразований в расширенной матрице получена строка вида $(0~0...0|\\lambda)$, где $\\lambda$ — отличное от нуля число, то такая система не имеет решений._"
   ]
  },
  {
   "cell_type": "markdown",
   "metadata": {
    "colab_type": "text",
    "id": "czB6XYWIZS3b"
   },
   "source": [
    "__Пример 3__\n",
    "\n",
    "Решить систему уравнений\n",
    "\n",
    "$$\\begin{cases}\n",
    "x_{1}+x_{2}-x_{3}=0, \\\\\n",
    "2x_{1}-x_{2}-x_{3}=-2, \\\\\n",
    "4x_{1}+x_{2}-3x_{3}=-2.\n",
    "\\end{cases}$$"
   ]
  },
  {
   "cell_type": "markdown",
   "metadata": {
    "colab_type": "text",
    "id": "YR00kYwJZS3e"
   },
   "source": [
    "Преобразуем расширенную матрицу системы путем элементарных преобразований:\n",
    "\n",
    "$$\\begin{pmatrix}\n",
    "\\left.\\begin{matrix}\n",
    "1 & 1 & -1 \\\\ \n",
    "2 & -1 & -1 \\\\ \n",
    "4 & 1 & -3\n",
    "\\end{matrix}\\right|\n",
    "\\begin{matrix}\n",
    "0\\\\ \n",
    "-2\\\\\n",
    "-2\n",
    "\\end{matrix}\n",
    "\\end{pmatrix}.$$\n",
    "\n",
    "Вычтем из второй строки первую, умноженную на 2, и из третьей строки первую, умноженную на 4:\n",
    "\n",
    "$$\\begin{pmatrix}\n",
    "\\left.\\begin{matrix}\n",
    "1 & 1 & -1 \\\\ \n",
    "0 & -3 & 1 \\\\ \n",
    "0 & -3 & 1\n",
    "\\end{matrix}\\right|\n",
    "\\begin{matrix}\n",
    "0\\\\ \n",
    "-2\\\\\n",
    "-2\n",
    "\\end{matrix}\n",
    "\\end{pmatrix}.$$\n",
    "\n",
    "И вычтем из третьей строки вторую:\n",
    "\n",
    "$$\\begin{pmatrix}\n",
    "\\left.\\begin{matrix}\n",
    "1 & 1 & -1 \\\\ \n",
    "0 & -3 & 1 \\\\ \n",
    "0 & 0 & 0\n",
    "\\end{matrix}\\right|\n",
    "\\begin{matrix}\n",
    "0\\\\ \n",
    "-2\\\\\n",
    "0\n",
    "\\end{matrix}\n",
    "\\end{pmatrix}.$$\n",
    "\n",
    "Обнулившуюся строку удаляем и получаем\n",
    "\n",
    "$$\\begin{pmatrix}\n",
    "\\left.\\begin{matrix}\n",
    "1 & 1 & -1 \\\\ \n",
    "0 & -3 & 1\n",
    "\\end{matrix}\\right|\n",
    "\\begin{matrix}\n",
    "0\\\\ \n",
    "-2\n",
    "\\end{matrix}\n",
    "\\end{pmatrix}.$$"
   ]
  },
  {
   "cell_type": "markdown",
   "metadata": {
    "colab_type": "text",
    "id": "NSlm4nyMZS3g"
   },
   "source": [
    "Это еще один особый случай при использовании метода Гаусса. В полученном ступенчатом виде мы имеем ступеньки из двух чисел, а не из одного, как это требуется. В таком случае система имеет _бесконечное количество решений._"
   ]
  },
  {
   "cell_type": "markdown",
   "metadata": {
    "colab_type": "text",
    "id": "38qX9RKqZS3h"
   },
   "source": [
    "Оставшаяся матрица соответствует системе\n",
    "\n",
    "$$\\begin{cases}\n",
    "x_{1}+x_{2}-x_{3}=0, \\\\\n",
    "~~-3x_{2}+x_{3}=-2.\n",
    "\\end{cases}$$\n",
    "\n",
    "Бесконечное множество решений принято записывать в виде _общего решения_.\n",
    "\n",
    "Последнее уравнение содержит две неизвестных. Неизвестные, «сидящие» на ступеньках матрицы, принято назывть _базисными_, и их нужно выразить через _свободные_ неизвестные. В данном случае можно рассматривать в качестве _свободного_ параметра $x_{3}=c$. Тогда, выражая остальные переменные через $c$, получим:\n",
    "\n",
    "$$x_{3}=c,$$\n",
    "$$-3x_{2}+c=-2 \\; \\Leftrightarrow \\; x_{2}=(c+2)/3,$$\n",
    "$$x_{1} + (c+2)/3 - c=0 \\; \\Leftrightarrow \\; x_{1}=(2c-2)/3.$$\n",
    "\n",
    "Таковым будет _общее решение системы_. Подставляя произвольные числа вместо $c$, мы получим _частное решение_. Например, при $c=0$:\n",
    "\n",
    "$$x_{1}=-2/3,$$\n",
    "$$x_{2}=2/3,$$\n",
    "$$x_{3}=0.$$\n",
    "\n",
    "Параметр $c$ может принимать бесконечное количество значений, при которых уравнения в системе будут обращаться в тождества.\n",
    "\n",
    "Подставив общее решение в исходную систему, также получим тождества:\n",
    "\n",
    "$$\\begin{cases}\n",
    "2c/3-2/3+c/3+2/3-c=0,\\\\\n",
    "2(2c/3-2/3)-c/3-2/3-c=4c/3-4/3-c/3-2/3-c=-2,\\\\\n",
    "4(2c/3-2/3)+c/3+2/3-3c=8c/3-8/3+c/3+2/3-3c=-2.\n",
    "\\end{cases}$$"
   ]
  },
  {
   "cell_type": "markdown",
   "metadata": {
    "colab_type": "text",
    "id": "0j2kHuO1ZS3l"
   },
   "source": [
    "## Существование и единственность решений систем линейных уравнений"
   ]
  },
  {
   "cell_type": "markdown",
   "metadata": {
    "colab_type": "text",
    "id": "JmSGJhHoZS3n"
   },
   "source": [
    "Как мы увидели на примерах реализации метода Гаусса, система линейных уравнений может иметь единственное решение, бесконечное количество решений или не иметь решений вовсе. "
   ]
  },
  {
   "cell_type": "markdown",
   "metadata": {
    "colab_type": "text",
    "id": "irHl4oOkZS3q"
   },
   "source": [
    "Система, не имеющая решений, называется _несовместной_. Соответственно, если система имеет хотя бы одно решение, она называется _совместной_. При этом, если это решение единственное, она называется _определенной_, а если решений больше одного — _неопределенной_."
   ]
  },
  {
   "cell_type": "markdown",
   "metadata": {
    "colab_type": "text",
    "id": "lslyz5DJZS3s"
   },
   "source": [
    "Теоретическое решение системы из $n$ уравнений с $n$ переменными $Ax=b$ дается формулой \n",
    "\n",
    "$$x=A^{-1}b,$$\n",
    "\n",
    "где $A^{-1}$ — матрица, обратная к $A$. Как известно, $A^{-1}$ существует только в том случае, когда матрица $A$ невырождена, то есть ее определитель $|A|\\neq0$."
   ]
  },
  {
   "cell_type": "markdown",
   "metadata": {
    "colab_type": "text",
    "id": "KtR-mwgYZS3t"
   },
   "source": [
    "Кроме матричного вида, показанного выше, систему линейных уравнений также можно представить через линейную комбинацию векторов коэффициентов:\n",
    "\n",
    "$$x_{1}\\begin{pmatrix}\n",
    "a_{11}\\\\ \n",
    "a_{21}\\\\ \n",
    "...\\\\ \n",
    "a_{m1}\n",
    "\\end{pmatrix}+\n",
    "x_{2}\\begin{pmatrix}\n",
    "a_{12}\\\\ \n",
    "a_{22}\\\\ \n",
    "...\\\\ \n",
    "a_{m2}\n",
    "\\end{pmatrix}+\n",
    "...+\n",
    "x_{n}\\begin{pmatrix}\n",
    "a_{1n}\\\\ \n",
    "a_{2n}\\\\ \n",
    "...\\\\ \n",
    "a_{mn}\n",
    "\\end{pmatrix}=\n",
    "\\begin{pmatrix}\n",
    "b_{1}\\\\ \n",
    "b_{2}\\\\ \n",
    "...\\\\ \n",
    "b_{m}\n",
    "\\end{pmatrix}.$$"
   ]
  },
  {
   "cell_type": "markdown",
   "metadata": {
    "colab_type": "text",
    "id": "brcMqD9yZS3v"
   },
   "source": [
    "В таком представлении вектор свободных членов $b$ является линейной комбинацией векторов $a_{1},a_{2},...,a_{m}$ с коэффициентами $x_{1},x_{2},...,x_{n}$."
   ]
  },
  {
   "cell_type": "markdown",
   "metadata": {
    "colab_type": "text",
    "id": "Vc9R654CZS3w"
   },
   "source": [
    "В этом случае совместность и несовместность системы удобно определять, анализируя векторы коэффициентов $a$ и вектор свободных членов $b$."
   ]
  },
  {
   "cell_type": "markdown",
   "metadata": {
    "colab_type": "text",
    "id": "NrsLC8VdZS3y"
   },
   "source": [
    "Так, векторами коэффициентов $a_{1},a_{2},...,a_{m}$ будет образовано некоторое линейное подпространство. Если вектор $b$ этому подпространству не принадлежит, то система несовместна.\n",
    "\n",
    "Если вектор $b$ принадлежит образованному линейному подпространству, то система точно совместна. Она будет иметь единственное решение в том случае, когда размерность этого линейного пространства будет совпадать с количеством $m$ векторов (с количеством неизвестных). Это будет означать, что векторы $a_{1},a_{2},...,a_{m}$ будут образовывать в этом пространстве базис, и вектор $b$ по нему можно разложить единственным образом. В противном случае система будет иметь бесконечное число решений."
   ]
  },
  {
   "cell_type": "markdown",
   "metadata": {
    "colab_type": "text",
    "id": "7Myuvx4TZS30"
   },
   "source": [
    "Для прояснения этого принципа рассмотрим несколько примеров"
   ]
  },
  {
   "cell_type": "markdown",
   "metadata": {
    "colab_type": "text",
    "id": "AgFPI4jpZS32"
   },
   "source": [
    "#### 1. Число уравнений равно числу неизвестных"
   ]
  },
  {
   "cell_type": "markdown",
   "metadata": {
    "colab_type": "text",
    "id": "-BZFoDyKZS35"
   },
   "source": [
    "Рассмотрим пример простой системы:\n",
    "\n",
    "$$\\begin{cases}\n",
    "x_{1}+x_{2}=3, \\\\\n",
    "2x_{1}+3x_{2}=8. \\\\\n",
    "\\end{cases}$$"
   ]
  },
  {
   "cell_type": "markdown",
   "metadata": {
    "colab_type": "text",
    "id": "dW8pb5PLZS3-"
   },
   "source": [
    "Такая система будет иметь решение $x_{1}=1, x_{1}=2$, причем оно будет являться единственным."
   ]
  },
  {
   "cell_type": "markdown",
   "metadata": {
    "colab_type": "text",
    "id": "AMd9j5ioZS4A"
   },
   "source": [
    "Перепишем эту систему в векторном виде:\n",
    "\n",
    "$$x_{1}\\begin{pmatrix}\n",
    "1\\\\ \n",
    "2\n",
    "\\end{pmatrix}+\n",
    "x_{2}\\begin{pmatrix}\n",
    "1\\\\ \n",
    "3\n",
    "\\end{pmatrix}=\n",
    "\\begin{pmatrix}\n",
    "3\\\\ \n",
    "8\n",
    "\\end{pmatrix} \\Leftrightarrow x_{1}a_{1}+x_{2}a_{2}=b$$"
   ]
  },
  {
   "cell_type": "markdown",
   "metadata": {
    "colab_type": "text",
    "id": "-wsmOpynZS4B"
   },
   "source": [
    "Если представить эту ситуацию на плоскости (см. рис. 1), то мы поймем, что вектор \n",
    "\n",
    "$$b=\n",
    "\\begin{pmatrix}\n",
    "3\\\\ \n",
    "8\n",
    "\\end{pmatrix}$$\n",
    "\n",
    "легко можно представить в виде суммы векторов \n",
    "\n",
    "$$a_{1}=\\begin{pmatrix}\n",
    "1\\\\ \n",
    "2\n",
    "\\end{pmatrix}, a_{2}=\n",
    "\\begin{pmatrix}\n",
    "1\\\\ \n",
    "3\n",
    "\\end{pmatrix},$$\n",
    "\n",
    "домноженных на некоторые коэффициенты (в данном случае на 1 и 2 соответственно), причем, как мы помним, два линейно независимых вектора в двумерном пространстве образуют базис, и любой вектор в этом пространстве можно выразить через линейную комбинацию элементов единственным образом, что объясняет единственность решения системы."
   ]
  },
  {
   "cell_type": "code",
   "execution_count": 1,
   "metadata": {
    "colab": {},
    "colab_type": "code",
    "id": "9t0ApIHoZS4F"
   },
   "outputs": [],
   "source": [
    "# запустите последовательно код в ячейках,чтобы отобразить иллюстрации\n",
    "import matplotlib.pyplot as plt"
   ]
  },
  {
   "cell_type": "code",
   "execution_count": 2,
   "metadata": {
    "colab": {},
    "colab_type": "code",
    "id": "AmLg63NsZS4N",
    "outputId": "ebba4078-17ac-4a89-c57a-2913d0e41c4c"
   },
   "outputs": [
    {
     "data": {
      "image/png": "[encoded data removed]",
      "text/plain": [
       "<Figure size 432x288 with 1 Axes>"
      ]
     },
     "metadata": {
      "needs_background": "light"
     },
     "output_type": "display_data"
    }
   ],
   "source": [
    "fig = plt.figure()\n",
    "ax = fig.add_subplot(1,1,1)\n",
    "\n",
    "ax.spines['left'].set_position('zero')\n",
    "ax.spines['bottom'].set_position('zero')\n",
    "\n",
    "ax.spines['right'].set_color('none')\n",
    "ax.spines['top'].set_color('none')\n",
    "\n",
    "plt.axis('scaled')\n",
    "plt.xlim(0, 4)\n",
    "plt.ylim(0, 4)\n",
    "\n",
    "ax.arrow(0, 0, 0.5, 2, head_width=0.15, head_length=0.2, length_includes_head=True, facecolor='black')\n",
    "ax.arrow(0, 0, 2, 0.5, head_width=0.15, head_length=0.2, length_includes_head=True, facecolor='black')\n",
    "ax.arrow(0, 0, 4, 2, head_width=0.15, head_length=0.2, length_includes_head=True, facecolor='black')\n",
    "\n",
    "ax.annotate(\"a1\", xy=(1.8, 0.6))\n",
    "ax.annotate(\"a2\", xy=(0.6, 1.8))\n",
    "ax.annotate(\"b\", xy=(3.8, 1.6))\n",
    "\n",
    "\n",
    "plt.show()"
   ]
  },
  {
   "cell_type": "markdown",
   "metadata": {
    "colab_type": "text",
    "id": "MyAyrohnZS4Y"
   },
   "source": [
    "$$Рис. 1$$"
   ]
  },
  {
   "cell_type": "markdown",
   "metadata": {
    "colab_type": "text",
    "id": "lYX1mS8PZS4Z"
   },
   "source": [
    "Перенесем сделанные выводы на общий случай для системы с равным количеством уравнений и неизвестных ($n=m$):\n",
    "\n",
    "$$x_{1}\\begin{pmatrix}\n",
    "a_{11}\\\\ \n",
    "a_{21}\\\\ \n",
    "...\\\\ \n",
    "a_{n1}\n",
    "\\end{pmatrix}+\n",
    "x_{2}\\begin{pmatrix}\n",
    "a_{12}\\\\ \n",
    "a_{22}\\\\ \n",
    "...\\\\ \n",
    "a_{n2}\n",
    "\\end{pmatrix}+\n",
    "...+\n",
    "x_{n}\\begin{pmatrix}\n",
    "a_{1n}\\\\ \n",
    "a_{2n}\\\\ \n",
    "...\\\\ \n",
    "a_{nn}\n",
    "\\end{pmatrix}=\n",
    "\\begin{pmatrix}\n",
    "b_{1}\\\\ \n",
    "b_{2}\\\\ \n",
    "...\\\\ \n",
    "b_{n}\n",
    "\\end{pmatrix} \\Leftrightarrow a_{1}x_{1}+a_{2}x_{2}+...+a_{n}x_{n}=b.$$"
   ]
  },
  {
   "cell_type": "markdown",
   "metadata": {
    "colab_type": "text",
    "id": "S2O-UinFZS4a"
   },
   "source": [
    "Решение этой системы можно трактовать как коэффициенты разложения вектора $b$ по векторам $a_{1},a_{2},...,a_{n}$. В случае, если они линейно независимы, они будут образовывать в данном $n$-мерном пространстве базис, а значит, любой элемент пространства мы можем разложить по этому базису с коэффициентами $x_{1},x_{2},...,x_{n}$ единственным образом.\n",
    "\n",
    "_Таким образом, в случае, __когда число уравнений равно числу неизвестных__ и матрица коэффициентов невырождена, если векторы столбцов коэффициентов $a_{1},a_{2},...,a_{n}$ линейно независимы, то такая система совместна, и ее решение единственно при любом векторе свободных членов $b$._ "
   ]
  },
  {
   "cell_type": "markdown",
   "metadata": {
    "colab_type": "text",
    "id": "pXHIAkNGZS4b"
   },
   "source": [
    "Теперь рассмотрим систему, где векторы коэффициентов $a_{1}$ и $a_{2}$ будут линейно зависимы:\n",
    "\n",
    "$$\\begin{cases}\n",
    "x_{1}+2x_{2}=b_{1}, \\\\\n",
    "2x_{1}+4x_{2}=b_{2}.\n",
    "\\end{cases}$$"
   ]
  },
  {
   "cell_type": "markdown",
   "metadata": {
    "colab_type": "text",
    "id": "peUGQxvqZS4e"
   },
   "source": [
    "С геометрической точки зрения в двумерном пространстве это означает, что два вектора\n",
    "\n",
    "$$a_{1}=\\begin{pmatrix}\n",
    "1\\\\ \n",
    "2\n",
    "\\end{pmatrix}, a_{2}=\n",
    "\\begin{pmatrix}\n",
    "2\\\\ \n",
    "4\n",
    "\\end{pmatrix}$$\n",
    "\n",
    "лежат на одной прямой, то есть принадлежат некоторому одномерному линейному подпространству исходного двумерного пространства (см. рис. 2).\n",
    "\n",
    "В этой ситуации возможны два случая. Если вектор свободных членов $b$ не лежит на этой прямой (не принадлежит этому подпространству), значит, мы никак не можем разложить его по векторам $a_{1}$ и $a_{2}$. Это означает, что такая система решений не имеет.\n",
    "\n",
    "Если же вектор $b$ лежит на этой прямой, мы уже можем разложить его по векторам $a_{1}$ и $a_{2}$, причем бесконечным количеством способов: так как базисом в данном одномерном подпространстве может быть любой из векторов $a_{1}$ и $a_{2}$, мы можем один из них перенести в правую часть уравнения и, например, однозначно разложить по базису $a_{1}$ любой вектор из правой части вида $b-x_{2}a_{2}$. Но так как $x_{2}$ мы можем выбрать бесконечным количеством способов, и сама система будет иметь бесконечное количество решений."
   ]
  },
  {
   "cell_type": "code",
   "execution_count": 3,
   "metadata": {
    "colab": {},
    "colab_type": "code",
    "id": "Voj7ho7_ZS4f",
    "outputId": "1c72131f-e6af-4807-cdf4-0043fda8eba9"
   },
   "outputs": [
    {
     "data": {
      "image/png": "[encoded data removed]",
      "text/plain": [
       "<Figure size 432x288 with 1 Axes>"
      ]
     },
     "metadata": {
      "needs_background": "light"
     },
     "output_type": "display_data"
    },
    {
     "data": {
      "image/png": "[encoded data removed]",
      "text/plain": [
       "<Figure size 432x288 with 1 Axes>"
      ]
     },
     "metadata": {
      "needs_background": "light"
     },
     "output_type": "display_data"
    }
   ],
   "source": [
    "fig = plt.figure()\n",
    "ax = fig.add_subplot(1,1,1)\n",
    "\n",
    "ax.spines['left'].set_position('zero')\n",
    "ax.spines['bottom'].set_position('zero')\n",
    "\n",
    "ax.spines['right'].set_color('none')\n",
    "ax.spines['top'].set_color('none')\n",
    "\n",
    "plt.axis('scaled')\n",
    "plt.xlim(0, 4)\n",
    "plt.ylim(0, 4)\n",
    "\n",
    "ax.arrow(0, 0, 0.5, 2, head_width=0.15, head_length=0.2, length_includes_head=True, facecolor='black')\n",
    "ax.arrow(0, 0, 0.75, 3, head_width=0.15, head_length=0.2, length_includes_head=True, facecolor='black')\n",
    "ax.arrow(0, 0, 4, 2, head_width=0.15, head_length=0.2, length_includes_head=True, facecolor='black')\n",
    "\n",
    "ax.annotate(\"a1\", xy=(0.8, 2.8))\n",
    "ax.annotate(\"a2\", xy=(0.6, 1.8))\n",
    "ax.annotate(\"b\", xy=(3.8, 1.6))\n",
    "\n",
    "fig2 = plt.figure()\n",
    "ax2 = fig2.add_subplot(1,1,1)\n",
    "\n",
    "ax2.spines['left'].set_position('zero')\n",
    "ax2.spines['bottom'].set_position('zero')\n",
    "\n",
    "ax2.spines['right'].set_color('none')\n",
    "ax2.spines['top'].set_color('none')\n",
    "\n",
    "plt.axis('scaled')\n",
    "plt.xlim(0, 4)\n",
    "plt.ylim(0, 4)\n",
    "\n",
    "ax2.arrow(0, 0, 0.4, 2, head_width=0.15, head_length=0.2, length_includes_head=True, facecolor='black')\n",
    "ax2.arrow(0, 0, 0.6, 3, head_width=0.15, head_length=0.2, length_includes_head=True, facecolor='black')\n",
    "ax2.arrow(0, 0, 0.8, 4, head_width=0.15, head_length=0.2, length_includes_head=True, facecolor='black')\n",
    "\n",
    "ax2.annotate(\"a1\", xy=(0.8, 2.8))\n",
    "ax2.annotate(\"a2\", xy=(0.6, 1.8))\n",
    "ax2.annotate(\"b\", xy=(1, 3.8))\n",
    "\n",
    "\n",
    "plt.show()"
   ]
  },
  {
   "cell_type": "markdown",
   "metadata": {
    "colab_type": "text",
    "id": "MJ5FMxZ7ZS4o"
   },
   "source": [
    "$$Рис. 2$$"
   ]
  },
  {
   "cell_type": "markdown",
   "metadata": {
    "colab_type": "text",
    "id": "i47F5RKNZS4p"
   },
   "source": [
    "В общем случае это означает, что _когда векторы столбцов коэффициентов $a_{1},a_{2},...,a_{n}$ линейно зависимы, они образуют некоторое линейное подпространство размерности меньше, чем $n$, и такая система совместна только в случае, когда вектор $b$ принадлежит этому линейному подпространству. В этом случае система имеет бесконечное число решений. Если же вектор $b$ этому подпространству не принадлежит, система решений не имеет._"
   ]
  },
  {
   "cell_type": "markdown",
   "metadata": {
    "colab_type": "text",
    "id": "oy6BOZK_ZS4q"
   },
   "source": [
    "__Пример__\n",
    "\n",
    "Выясним, будет ли совместной следующая система:\n",
    "\n",
    "$$\\begin{cases}\n",
    "x_{1}+2x_{2}=5, \\\\\n",
    "2x_{1}+4x_{2}=6.\n",
    "\\end{cases}$$"
   ]
  },
  {
   "cell_type": "markdown",
   "metadata": {
    "colab_type": "text",
    "id": "kwEvpF-dZS4r"
   },
   "source": [
    "Векторы коэффициентов линейно зависимы, и вектор свободных членов не принадлежит одномерному подпространству, которое они образуют.\n",
    "\n",
    "Решим систему методом Гаусса:\n",
    "\n",
    "$$\\begin{pmatrix}\n",
    "\\left.\\begin{matrix}\n",
    "1 & 2  \\\\ \n",
    "2 & 4\n",
    "\\end{matrix}\\right|\n",
    "\\begin{matrix}\n",
    "5\\\\ \n",
    "6\n",
    "\\end{matrix}\n",
    "\\end{pmatrix},$$\n",
    "\n",
    "вычтем из второй строки первую, умноженную на 2:\n",
    "\n",
    "$$\\begin{pmatrix}\n",
    "\\left.\\begin{matrix}\n",
    "1 & 2  \\\\ \n",
    "0 & 0\n",
    "\\end{matrix}\\right|\n",
    "\\begin{matrix}\n",
    "5\\\\ \n",
    "-4\n",
    "\\end{matrix}\n",
    "\\end{pmatrix}.$$\n",
    "\n",
    "Действительно, такая система несовместна."
   ]
  },
  {
   "cell_type": "markdown",
   "metadata": {
    "colab_type": "text",
    "id": "BvpvExmeZS4t"
   },
   "source": [
    "#### 2. Число уравнений меньше числа неизвестных"
   ]
  },
  {
   "cell_type": "markdown",
   "metadata": {
    "colab_type": "text",
    "id": "dbHHnsVvZS4u"
   },
   "source": [
    "Системы уравнений, в которых число уравнений меньше числа неизвестных, называются _недоопределенными_."
   ]
  },
  {
   "cell_type": "markdown",
   "metadata": {
    "colab_type": "text",
    "id": "uyKdokTSZS4v"
   },
   "source": [
    "Рассмотрим систему\n",
    "\n",
    "$$\\begin{cases}\n",
    "x_{1}+2x_{2}+4x_{3}=1, \\\\\n",
    "2x_{1}+3x_{2}+7x_{3}=9. \\\\\n",
    "\\end{cases}$$"
   ]
  },
  {
   "cell_type": "markdown",
   "metadata": {
    "colab_type": "text",
    "id": "ff3uUc5cZS4w"
   },
   "source": [
    "В двумерном пространстве любая пара векторов\n",
    "\n",
    "$$a_{1}=\\begin{pmatrix}\n",
    "1\\\\ \n",
    "2\n",
    "\\end{pmatrix}, a_{2}=\n",
    "\\begin{pmatrix}\n",
    "2\\\\ \n",
    "3\n",
    "\\end{pmatrix}, a_{3}=\n",
    "\\begin{pmatrix}\n",
    "4\\\\ \n",
    "7\n",
    "\\end{pmatrix}$$\n",
    "\n",
    "может образовать базис, по которому получится единственным образом разложить любой вектор. В частности, перенося $a_{3}x_{3}$ в правую часть уравнения вида $a_{1}x_{1}+a_{2}x_{2}+a_{3}x_{3}=b$, мы сможем однозначно разложить получившийся справа вектор $b-a_{3}x_{3}$ и получить тождество, но так как $x_{3}$ может принимать бесконечное количество значений, и _решений системы также будет бесконечное количество_, то есть здесь будет формироваться _фундаментальная система решений_ (с этим термином вы познакомитесь на следующем уроке). Это же будет работать и тогда, когда любые два вектора из $a_{1},a_{2}, a_{3}$ будут линейно зависимыми."
   ]
  },
  {
   "cell_type": "markdown",
   "metadata": {
    "colab_type": "text",
    "id": "LDjdOYW3ZS42"
   },
   "source": [
    "В системе же, в которой векторы коэффициентов линейно зависимы:\n",
    "\n",
    "$$\\begin{cases}\n",
    "x_{1}+2x_{2}+3x_{3}=b_{1}, \\\\\n",
    "2x_{1}+4x_{2}+6x_{3}=b_{2}, \\\\\n",
    "\\end{cases}$$\n",
    "\n",
    "то есть принадлежат одному и тому же одномерному линейному подпространству, как и в случае с равным количеством уравнений и переменных, _система будет совместна только тогда, когда вектор свободных членов будет принадлежать этому подпространству. В этом случае система будет иметь бесконечное количество решений. В противном случае система будет несовместна_. "
   ]
  },
  {
   "cell_type": "markdown",
   "metadata": {
    "colab_type": "text",
    "id": "Zs8s0xtZZS43"
   },
   "source": [
    "#### 3. Число уравнений больше числа неизвестных"
   ]
  },
  {
   "cell_type": "markdown",
   "metadata": {
    "colab_type": "text",
    "id": "W5m4ugpbZS46"
   },
   "source": [
    "Начнем с примера, когда векторы столбцов коэффициентов линейно независимы:\n",
    "\n",
    "$$\\begin{cases}\n",
    "x_{1}+2x_{2}=b_{1}, \\\\\n",
    "2x_{1}+4x_{2}=b_{2}, \\\\\n",
    "3x_{1}+7x_{2}=b_{3}.\n",
    "\\end{cases}$$"
   ]
  },
  {
   "cell_type": "markdown",
   "metadata": {
    "colab_type": "text",
    "id": "L14MgNzeZS47"
   },
   "source": [
    "В этой ситуации перед нами стоит задача разложить трехмерный вектор $b=\\begin{pmatrix}\n",
    "b_{1}\\\\ \n",
    "b_{2}\\\\\n",
    "b_{3}\n",
    "\\end{pmatrix}$ по двум векторам: $a_{1}=\\begin{pmatrix}\n",
    "1\\\\ \n",
    "2\\\\\n",
    "3\n",
    "\\end{pmatrix}, a_{2}=\\begin{pmatrix}\n",
    "2\\\\ \n",
    "4\\\\\n",
    "7\n",
    "\\end{pmatrix}$."
   ]
  },
  {
   "cell_type": "markdown",
   "metadata": {
    "colab_type": "text",
    "id": "BwoGa5qlZS49"
   },
   "source": [
    "_Это будет возможно только в том случае, если вектор свободных членов $b$ будет принадлежать линейному подпространству, образованному векторами $a_{1}$ и $a_{2}$, то есть (в данном частном случае) лежать с ними в одной плоскости. В этом случае система будет иметь единственное решение, которым будут являться коэффициенты разложения вектора $b$ по базису из $a_{1}$ и $a_{2}$ в этой плоскости. Если же $b$ не будет принадлежать образованному векторами столбцов коэффициентов линейному подпространству, система будет несовместна_."
   ]
  },
  {
   "cell_type": "markdown",
   "metadata": {
    "colab_type": "text",
    "id": "Ufusvr0vZS4_"
   },
   "source": [
    "Когда векторы столбцов коэффициентов линейно зависимы, \n",
    "\n",
    "$$\\begin{cases}\n",
    "x_{1}+2x_{2}=b_{1}, \\\\\n",
    "2x_{1}+4x_{2}=b_{2}, \\\\\n",
    "3x_{1}+6x_{2}=b_{3}, \n",
    "\\end{cases}$$\n",
    "\n",
    "векторы коэффициентов будут лежать на одной прямой, и, как и в двух предыдущих случаях, _система будет совместна только тогда, когда вектор свободных членов будет также лежать на этой прямой. Система будет иметь бесконечное количество решений. Если вектор $b$ не будет принадлежать образованному одномерному линейному подпространству, решений система иметь не будет_."
   ]
  },
  {
   "cell_type": "markdown",
   "metadata": {
    "colab_type": "text",
    "id": "PWG3zudjZS5C"
   },
   "source": [
    "## Теорема Кронекера — Капелли"
   ]
  },
  {
   "cell_type": "markdown",
   "metadata": {
    "colab_type": "text",
    "id": "ECgdrSZiZS5H"
   },
   "source": [
    "Вернемся к матричному виду систем линейных уравнений \n",
    "\n",
    "$$Ax=b.$$"
   ]
  },
  {
   "cell_type": "markdown",
   "metadata": {
    "colab_type": "text",
    "id": "VRbUdVbrZS5J"
   },
   "source": [
    "__Теорема__ \n",
    "\n",
    "Необходимым и достаточным условием совместности системы из $m$ уравнений с $n$ неизвестными является равенство между собой рангов матрицы коэффициентов $A$ и расширенной матрицы $\\tilde A$\n",
    "\n",
    "$$rank A=rank \\tilde A.$$"
   ]
  },
  {
   "cell_type": "markdown",
   "metadata": {
    "colab_type": "text",
    "id": "5BcIUSGNZS5K"
   },
   "source": [
    "Причем:<br>\n",
    "1) если $rankA=rank \\tilde A=n$, где $n$ — число неизвестных, то система определена, т. е. имеет единственное решение;<br>\n",
    "2) если $rankA=rank \\tilde A<n$, то система имеет бесконечное количество решений;<br>\n",
    "3) если $rankA<rank \\tilde A$, то система несовместна."
   ]
  },
  {
   "cell_type": "markdown",
   "metadata": {
    "colab_type": "text",
    "id": "qprHkBztZS5L"
   },
   "source": [
    "__Пример__\n",
    "\n",
    "Проверить на совместность и выяснить, сколько решений будет иметь система линейных уравнений, заданная расширенной матрицей\n",
    "\n",
    "$$\\tilde{A}=\\begin{pmatrix}\n",
    "\\left.\\begin{matrix}\n",
    "1 & 2 & 3 & 4\\\\ \n",
    "0 & 5 & 6 & 7\\\\ \n",
    "0 & 0 & 8 & 9\\\\ \n",
    "0 & 0 & 0 & 0\n",
    "\\end{matrix}\\right|\n",
    "\\begin{matrix}\n",
    "1\\\\ \n",
    "2\\\\\n",
    "3\\\\\n",
    "a\n",
    "\\end{matrix}\n",
    "\\end{pmatrix}$$\n",
    "\n",
    "при различных значениях параметра $a$."
   ]
  },
  {
   "cell_type": "markdown",
   "metadata": {
    "colab_type": "text",
    "id": "0CtRvxH_ZS5M"
   },
   "source": [
    "__Решение__\n",
    "\n",
    "Если $a\\neq 0$, то $rank \\tilde A=4$, в то время как $rank A=3$. Это означает, что система в этом случае несовместна.\n",
    "\n",
    "Если $a=0$, тогда $rank A=rank \\tilde A=3$, что меньше количества неизвестных $m=4$. В этом случае система имеет бесконечное множество решений, и одна из неизвестных должна рассматриваться как свободный параметр, при любых значениях которого система будет иметь решение."
   ]
  },
  {
   "cell_type": "code",
   "execution_count": 4,
   "metadata": {},
   "outputs": [],
   "source": [
    "### Правило Крамера"
   ]
  },
  {
   "cell_type": "markdown",
   "metadata": {},
   "source": [
    "Для системы с $n$ уравнениями и $n$ неизвестными, если система уравнений невырождена (то есть $detA\\neq 0$), то система определена, то есть имеет единственное решение, и это решение может быть найдено по формулам Крамера:\n",
    "\n",
    "$$x_{i}=\\frac{detA_{i}}{detA},$$\n",
    "\n",
    "где $A_{i}$ — это матрица, получаемая заменой $i$-го столбца на вектор-столбец свободных членов $b$."
   ]
  },
  {
   "cell_type": "markdown",
   "metadata": {},
   "source": [
    "__Пример__\n",
    "\n",
    "Решить методом Крамера систему линейных уравнений\n",
    "\n",
    "$$\\begin{cases}\n",
    "2x_{1}+3x_{2}-x_{3}=4, \\\\\n",
    "x_{1}+x_{2}+3x_{3}=5, \\\\\n",
    "3x_{1}-4x_{2}+x_{3}=0.\n",
    "\\end{cases}$$\n",
    "\n",
    "__Решение__\n",
    "\n",
    "Найдем определитель матрицы коэффициентов:\n",
    "\n",
    "$$detA=\\begin{vmatrix}\n",
    "2 & 3 & -1\\\\ \n",
    "1 & 1 & 3\\\\ \n",
    "3 & -4 & 1\n",
    "\\end{vmatrix}=\n",
    "2\\begin{vmatrix}\n",
    "1 & 3\\\\ \n",
    "-4 & 1 \n",
    "\\end{vmatrix}-\n",
    "3\\begin{vmatrix}\n",
    "1 & 3\\\\ \n",
    "3 & 1 \n",
    "\\end{vmatrix}-\n",
    "\\begin{vmatrix}\n",
    "1 & 1 \\\\ \n",
    "3 & -4\n",
    "\\end{vmatrix}=2(1 \\cdot 1-3\\cdot (-4))-3(1\\cdot 1-3\\cdot 3)-1(1\\cdot (-4)-3\\cdot 1)=57\\neq 0,$$\n",
    "\n",
    "следовательно, система совместна.\n",
    "\n",
    "Найдем определители $detA_{1}$, $detA_{2}$, $detA_{3}$:\n",
    "\n",
    "$$detA_{1}=\\begin{vmatrix}\n",
    "4 & 3 & -1\\\\ \n",
    "5 & 1 & 3\\\\ \n",
    "0 & -4 & 1\n",
    "\\end{vmatrix}=\n",
    "4\\begin{vmatrix}\n",
    "1 & 3\\\\ \n",
    "-4 & 1 \n",
    "\\end{vmatrix}-\n",
    "5\\begin{vmatrix}\n",
    "3 & -1\\\\ \n",
    "-4 & 1 \n",
    "\\end{vmatrix}+\n",
    "0\\begin{vmatrix}\n",
    "3 & -1 \\\\ \n",
    "1 & 3\n",
    "\\end{vmatrix}=4(1 \\cdot 1-3\\cdot (-4))-5(3\\cdot (-1)-(-4)\\cdot (-1))=57,$$\n",
    "\n",
    "$$detA_{2}=\\begin{vmatrix}\n",
    "2 & 4 & -1\\\\ \n",
    "1 & 5 & 3\\\\ \n",
    "3 & 0 & 1\n",
    "\\end{vmatrix}=\n",
    "2\\begin{vmatrix}\n",
    "5 & 3\\\\ \n",
    "0 & 1 \n",
    "\\end{vmatrix}-\n",
    "4\\begin{vmatrix}\n",
    "1 & 3\\\\ \n",
    "3 & 1 \n",
    "\\end{vmatrix}-\n",
    "\\begin{vmatrix}\n",
    "1 & 5 \\\\ \n",
    "3 & 0\n",
    "\\end{vmatrix}=2(5 \\cdot 1-0\\cdot 3)-4(1\\cdot 1-3\\cdot 3)-1(1\\cdot 0-3\\cdot 5)=57,$$\n",
    "\n",
    "$$detA_{3}=\\begin{vmatrix}\n",
    "2 & 3 & 4\\\\ \n",
    "1 & 1 & 5\\\\ \n",
    "3 & -4 & 0\n",
    "\\end{vmatrix}=\n",
    "2\\begin{vmatrix}\n",
    "1 & 5\\\\ \n",
    "-4 & 0 \n",
    "\\end{vmatrix}-\n",
    "3\\begin{vmatrix}\n",
    "1 & 5\\\\ \n",
    "3 & 0 \n",
    "\\end{vmatrix}+\n",
    "4\\begin{vmatrix}\n",
    "1 & 1 \\\\ \n",
    "3 & -4\n",
    "\\end{vmatrix}=2(1 \\cdot 0-(-4)\\cdot 5)-3(1\\cdot 0-5\\cdot 3)-1(1\\cdot (-4)-3\\cdot 1)=57.$$\n",
    "\n",
    "Найдем решение по формулам Крамера:\n",
    "\n",
    "$$x_{1} = \\frac{detA_{1}}{detA} = \\frac{57}{57}=1,$$\n",
    "\n",
    "$$x_{2} = \\frac{detA_{2}}{detA} = \\frac{57}{57}=1,$$\n",
    "\n",
    "$$x_{3} = \\frac{detA_{3}}{detA} = \\frac{57}{57}=1.$$\n",
    "\n",
    "_Следует помнить, что правило Крамера применимо только к системам, в которых количество уравнений совпадает с количеством неизвестных._"
   ]
  },
  {
   "cell_type": "code",
   "execution_count": null,
   "metadata": {},
   "outputs": [],
   "source": []
  },
  {
   "cell_type": "code",
   "execution_count": null,
   "metadata": {},
   "outputs": [],
   "source": []
  },
  {
   "cell_type": "code",
   "execution_count": null,
   "metadata": {},
   "outputs": [],
   "source": []
  },
  {
   "cell_type": "markdown",
   "metadata": {},
   "source": []
  },
  {
   "cell_type": "markdown",
   "metadata": {},
   "source": [
    "### LU-разложение\n",
    "\n",
    "\n",
    "Матричные декомпозиции - это методы, которые сокращают матрицу на составные части, что облегчает вычисление более сложных матричных операций. Методы матричной декомпозиции, также называемые методами матричной факторизации, являются основой линейной алгебры в компьютерах, даже для базовых операций, таких как решение систем линейных уравнений, вычисление обратного и вычисление определителя матрицы.\n",
    "Два простых и широко используемых метода декомпозиции матрицы - это декомпозиция матрицы LU и декомпозиция матрицы QR."
   ]
  },
  {
   "cell_type": "markdown",
   "metadata": {},
   "source": [
    "Этот метод — модификация метода Гаусса, придуманная Аланом Тьюрингом в 1948 году."
   ]
  },
  {
   "cell_type": "markdown",
   "metadata": {},
   "source": [
    "__Теорема__\n",
    "\n",
    "Пусть дана квадратная матрица $A$ порядка $n$, и $A_{k}$ — главный минор этой матрицы, составленный из первых $k$ строк и столбцов. Если $det(A_{k})\\neq0$ для $k=1,2,...,n-1$, тогда существует единственная нижняя треугольная матрица $L=(l_{ij})$, где $l_{11}=l_{22}=...=l_{nn}=1$, и единственная верхняя треугольная матрица $U=(u_{ij})$, такие, что $LU=A$. Более того, $det(A)=u_{11}\\cdot u_{22}\\cdot...\\cdot u_{nn}$."
   ]
  },
  {
   "cell_type": "markdown",
   "metadata": {},
   "source": [
    "Представление матрицы системы уравнений $A$ в виде произведения $LU$ явялется основной идеей гауссовских схем исключения, так как система $Ax=b$ может быть записана как\n",
    "\n",
    "$$LUx=b$$\n",
    "\n",
    "и сводится к двум системам с треугольными матрицами.\n",
    "\n",
    "\n",
    "\n",
    "Ме́тод Га́усса — классический метод решения системы линейных алгебраических уравнений (СЛАУ). Назван в честь немецкого математика Карла Фридриха Гаусса. Это метод последовательного исключения переменных, когда с помощью элементарных преобразований система уравнений приводится к равносильной системе треугольного вида, из которой последовательно, начиная с последних (по номеру), находятся все переменные системы."
   ]
  },
  {
   "cell_type": "markdown",
   "metadata": {},
   "source": [
    "Если принять $Ux=y$, то получим\n",
    "\n",
    "$$Ly=b.$$\n",
    "\n",
    "Так как $L$ — нижняя треугольная матрица, компоненты промежуточного решения $y$ могут быть получены просто путем последовательной подстановки, так как первое уравнение содержит только $y_{1}$, второе —  $y_{1}$ и  $y_{}$ и т. д.\n",
    "\n",
    "Вторым шагом, когда мы нашли $y$, решается система\n",
    "\n",
    "$$Ux=y,$$\n",
    "\n",
    "где $U$ — верхняя треугольная матрица, то есть эта система также решается простой последовательной подстановкой в обратном порядке: $x_{n}, x_{n-1},...,x_{1}$."
   ]
  },
  {
   "cell_type": "markdown",
   "metadata": {},
   "source": [
    "Вычисление $L$ и $U$ вместе с решением системы $Ly=b$ обычно называется _прямым исключением_, а решение системы $Ux=y$ — _обратной подстановкой_."
   ]
  },
  {
   "cell_type": "markdown",
   "metadata": {},
   "source": [
    "Опишем алгоритм получения $LU$-разложения на примере квадратной системы уравнений с $n=4$. Общий случай легко получится из этих представлений:\n",
    "\n",
    "$$\\begin{pmatrix}\n",
    "a_{11} & a_{12} & a_{13} & a_{14}\\\\ \n",
    "a_{21} & a_{22} & a_{23} & a_{24}\\\\ \n",
    "a_{31} & a_{32} & a_{33} & a_{34}\\\\ \n",
    "a_{41} & a_{42} & a_{43} & a_{44}\\\\ \n",
    "\\end{pmatrix}\n",
    "\\begin{pmatrix}\n",
    "x_{1}\\\\ \n",
    "x_{2}\\\\ \n",
    "x_{3}\\\\ \n",
    "x_{4}\\\\ \n",
    "\\end{pmatrix}=\n",
    "\\begin{pmatrix}\n",
    "b_{1}\\\\ \n",
    "b_{2}\\\\ \n",
    "b_{3}\\\\ \n",
    "b_{4}\\\\ \n",
    "\\end{pmatrix}.$$"
   ]
  },
  {
   "cell_type": "markdown",
   "metadata": {},
   "source": [
    "Верхняя треугольная матрица $U$ получается путем прямого хода метода Гаусса.\n",
    "\n",
    "Повторяя алгоритм из предыдущего урока, если $a_{11}\\neq0$, на первом шаге умножаем первое уравнение на \n",
    "\n",
    "$$m_{i1}=\\frac{a_{i1}}{a_{11}}$$\n",
    "\n",
    "и вычитаем его из $i$-го ($i=2,3,4$).\n",
    "\n",
    "В итоге получаем эквивалентную систему\n",
    "\n",
    "$$\\begin{pmatrix}\n",
    "a_{11} & a_{12} & a_{13} & a_{14}\\\\ \n",
    "0 & a_{22}^{(1)} & a_{23}^{(1)} & a_{24}^{(1)}\\\\ \n",
    "0 & a_{32}^{(1)} & a_{33}^{(1)} & a_{34}^{(1)}\\\\ \n",
    "0 & a_{42}^{(1)} & a_{43}^{(1)} & a_{44}^{(1)}\\\\ \n",
    "\\end{pmatrix}\n",
    "\\begin{pmatrix}\n",
    "x_{1}\\\\ \n",
    "x_{2}\\\\ \n",
    "x_{3}\\\\ \n",
    "x_{4}\\\\ \n",
    "\\end{pmatrix}=\n",
    "\\begin{pmatrix}\n",
    "b_{1}\\\\ \n",
    "b_{2}^{1}\\\\ \n",
    "b_{3}^{1}\\\\ \n",
    "b_{4}^{1}\\\\ \n",
    "\\end{pmatrix},$$\n",
    "\n",
    "где\n",
    "\n",
    "$$a_{ij}^{(1)}=a_{ij}-a_{1j}\\frac{a_{i1}}{a_{11}}~~~~(i,j\\geq2),$$\n",
    "$$b_{i}^{(1)}=b_{i}-b_{1}\\frac{a_{i1}}{a_{11}}.$$"
   ]
  },
  {
   "cell_type": "markdown",
   "metadata": {},
   "source": [
    "Если $a_{11}=0$, тогда можем выбрать главный элемент по столбцу или строке: находим строку (столбец) в матрице с максимальным по модулю первым элементом и меняем эту строку (столбец) местами с первой строкой (столбцом)."
   ]
  },
  {
   "cell_type": "markdown",
   "metadata": {},
   "source": [
    "Запишем получившуюся систему в виде\n",
    "\n",
    "$$A^{1}x=b^{1}.$$\n",
    "\n",
    "Если $M_{1}$ — нижняя треугольная матрица\n",
    "\n",
    "$$M_{1}=\\begin{pmatrix}\n",
    "1 & 0 & 0 & 0\\\\ \n",
    "-m_{21} & 1 & 0 & 0\\\\ \n",
    "-m_{31} & 0 & 1 & 0\\\\ \n",
    "-m_{41} & 0 & 0 & 1\\\\ \n",
    "\\end{pmatrix},$$\n",
    "\n",
    "то\n",
    "\n",
    "$$A^{(1)}=M_{1}A,~~~b^{(1)}=M_{1}b.$$"
   ]
  },
  {
   "cell_type": "markdown",
   "metadata": {},
   "source": [
    "Если $a_{22}^{(1)}\\neq 0$, то проведем второй шаг метода Гаусса: умножим второе уравнение на \n",
    "\n",
    "$$m_{i2}=\\frac{a_{i2}^{(1)}}{a_{22}^{(1)}}$$\n",
    "\n",
    "и вычтем его из $i$-го ($i=3,4$).\n",
    "\n",
    "Получим систему\n",
    "\n",
    "$$\\begin{pmatrix}\n",
    "a_{11} & a_{12} & a_{13} & a_{14}\\\\ \n",
    "0 & a_{22}^{(1)} & a_{23}^{(1)} & a_{24}^{(1)}\\\\ \n",
    "0 & 0& a_{33}^{(2)} & a_{34}^{(2)}\\\\ \n",
    "0 & 0& a_{43}^{(2)} & a_{44}^{(2)}\\\\ \n",
    "\\end{pmatrix}\n",
    "\\begin{pmatrix}\n",
    "x_{1}\\\\ \n",
    "x_{2}\\\\ \n",
    "x_{3}\\\\ \n",
    "x_{4}\\\\ \n",
    "\\end{pmatrix}=\n",
    "\\begin{pmatrix}\n",
    "b_{1}\\\\ \n",
    "b_{2}^{1}\\\\ \n",
    "b_{3}^{2}\\\\ \n",
    "b_{4}^{2}\\\\ \n",
    "\\end{pmatrix},$$\n",
    "\n",
    "где\n",
    "\n",
    "$$a_{ij}^{(2)}=a_{ij}^{(1)}-a_{2j}^{(1)}\\frac{a_{i2}^{(1)}}{a_{22}^{(1)}}~~~~(i,j\\geq3),$$\n",
    "$$b_{i}^{(2)}=b_{i}^{(1)}-b_{2}^{(1)}\\frac{a_{i2}^{(1)}}{a_{22}^{(1)}}.$$"
   ]
  },
  {
   "cell_type": "markdown",
   "metadata": {},
   "source": [
    "Запишем систему в виде\n",
    "\n",
    "$$A^{2}x=b^{2},$$\n",
    "\n",
    "причем\n",
    "\n",
    "$$A^{(2)}=M_{2}A^{(1)},~~~b^{(2)}=M_{2}b^{(1)},$$\n",
    "\n",
    "где $M_{2}$ — нижняя треугольная матрица\n",
    "\n",
    "$$M_{2}=\\begin{pmatrix}\n",
    "1 & 0 & 0 & 0\\\\ \n",
    "0 & 1 & 0 & 0\\\\ \n",
    "0 & -m_{32} & 1 & 0\\\\ \n",
    "0 & -m_{42} & 0 & 1\\\\ \n",
    "\\end{pmatrix}.$$"
   ]
  },
  {
   "cell_type": "markdown",
   "metadata": {},
   "source": [
    "Наконец, предполагая, что $a_{33}^{2}\\neq0$, умножим третье уравнение на \n",
    "\n",
    "$$m_{i3}=\\frac{a_{i3}^{(2)}}{a_{33}^{(2)}}$$ \n",
    "\n",
    "и вычтем его из $i$-го (здесь i=4). Получим\n",
    "\n",
    "$$\\begin{pmatrix}\n",
    "a_{11} & a_{12} & a_{13} & a_{14}\\\\ \n",
    "0 & a_{22}^{(1)} & a_{23}^{(1)} & a_{24}^{(1)}\\\\ \n",
    "0 & 0 & 0 & a_{34}^{(2)}\\\\ \n",
    "0 & 0 & 0 & a_{44}^{(3)}\\\\ \n",
    "\\end{pmatrix}\n",
    "\\begin{pmatrix}\n",
    "x_{1}\\\\ \n",
    "x_{2}\\\\ \n",
    "x_{3}\\\\ \n",
    "x_{4}\\\\ \n",
    "\\end{pmatrix}=\n",
    "\\begin{pmatrix}\n",
    "b_{1}\\\\ \n",
    "b_{2}^{1}\\\\ \n",
    "b_{3}^{2}\\\\ \n",
    "b_{4}^{3}\\\\ \n",
    "\\end{pmatrix},$$\n",
    "\n",
    "где\n",
    "\n",
    "$$a_{ij}^{(3)}=a_{ij}^{(2)}-a_{3j}^{(2)}\\frac{a_{i3}^{(2)}}{a_{33}^{(2)}}~~~~(i,j\\geq4),$$\n",
    "$$b_{i}^{(3)}=b_{i}^{(2)}-b_{3}^{(2)}\\frac{a_{i3}^{(2)}}{a_{33}^{(2)}}.$$"
   ]
  },
  {
   "cell_type": "markdown",
   "metadata": {},
   "source": [
    "Запишем систему в виде\n",
    "\n",
    "$$A^{3}x=b^{3},$$\n",
    "\n",
    "причем\n",
    "\n",
    "$$A^{(3)}=M_{3}A^{(2)},~~~b^{(3)}=M_{3}b^{(2)},$$\n",
    "\n",
    "где $M_{3}$ — нижняя треугольная матрица\n",
    "\n",
    "$$M_{3}=\\begin{pmatrix}\n",
    "1 & 0 & 0 & 0\\\\ \n",
    "0 & 1 & 0 & 0\\\\ \n",
    "0 & 0 & 1 & 0\\\\ \n",
    "0 & 0 & -m_{43} & 1\\\\ \n",
    "\\end{pmatrix}.$$"
   ]
  },
  {
   "cell_type": "markdown",
   "metadata": {},
   "source": [
    "Тогда $A^{(3)}=M_{3}M_{1}M_{1}A$ есть верхняя треугольная матрица (ее и обозначим через $U$), и\n",
    "\n",
    "$$A=M_{1}^{-1}M_{2}^{-1}M_{3}^{-1}A^{(3)},$$\n",
    "\n",
    "$$b=M_{1}^{-1}M_{2}^{-1}M_{3}^{-1}b^{(3)}.$$\n",
    "\n",
    "Обозначим $L=M_{1}^{-1}M_{2}^{-1}M_{3}^{-1}$.\n",
    "\n",
    "Получим \n",
    "\n",
    "$$L=\\begin{pmatrix}\n",
    "1 & 0 & 0 & 0\\\\ \n",
    "m_{21} & 1 & 0 & 0\\\\ \n",
    "m_{31} & m_{32} & 1 & 0\\\\ \n",
    "m_{41} & m_{42} & m_{43} & 1\\\\ \n",
    "\\end{pmatrix}.$$"
   ]
  },
  {
   "cell_type": "markdown",
   "metadata": {},
   "source": [
    "Таким образом, мы получили разложение\n",
    "\n",
    "$$A=LU,$$\n",
    "\n",
    "где \n",
    "\n",
    "$$U=\\begin{pmatrix}\n",
    "a_{11} & a_{12} & a_{13} & a_{14}\\\\ \n",
    "0 & a_{22}^{(1)} & a_{23}^{(1)} & a_{24}^{(1)}\\\\ \n",
    "0 & 0 & 0 & a_{34}^{(2)}\\\\ \n",
    "0 & 0 & 0 & a_{44}^{(3)}\\\\ \n",
    "\\end{pmatrix}.$$"
   ]
  },
  {
   "cell_type": "markdown",
   "metadata": {},
   "source": [
    "В общем виде формулы нахождения элементов матриц $U$ (обозначим их теперь как $u_{ij}$) и $L$ (обозначим их теперь как $l_{ji}$) можно записать как\n",
    "\n",
    "$$u_{1j}=a_{1j},$$\n",
    "$$l_{j1}=\\frac{a_{j1}}{u_{11}}, \\; u_{11}\\neq0, \\; j = 1,...,n.$$\n",
    "\n",
    "Для $i = 2,...,n$:\n",
    "\n",
    "$$u_{ij}=a_{ij}-\\sum_{k=1}^{i-1}l_{ik}u_{ki},$$\n",
    "$$l_{ji}=\\frac{1}{u_{11}}(a_{ji}-\\sum_{k=1}^{i-1}l_{jk}u_{ki}),\\; j = i,...,n.$$"
   ]
  },
  {
   "cell_type": "markdown",
   "metadata": {},
   "source": [
    "__Пример__\n",
    "\n",
    "Решим систему уравнений \n",
    "\n",
    "$$\\begin{cases}\n",
    "2x_{1}+x_{2}-x_{3}=5, \\\\\n",
    "4x_{1}-6x_{2}-2x_{3}=-2, \\\\\n",
    "-2x_{1}+7x_{2}-3x_{3}=7\n",
    "\\end{cases}$$\n",
    "\n",
    "методом $LU$-разложения."
   ]
  },
  {
   "cell_type": "markdown",
   "metadata": {},
   "source": [
    "Матрица коэффициентов $A$ будет иметь вид\n",
    "\n",
    "$$\\begin{pmatrix}\n",
    "2 & 1 & -1 \\\\ \n",
    "4 & -6 & -2 \\\\ \n",
    "-2 & 7 & -3\n",
    "\\end{pmatrix}.$$"
   ]
  },
  {
   "cell_type": "markdown",
   "metadata": {},
   "source": [
    "Начнем прямой ход метода Гаусса. Для этого домножим первую строку на $2$ и вычтем ее из второго уравнения. При этом запишем в матрицу $L$ на место элемента $l_{21}$ значение $2$. Затем нам нужно вычесть из третьего уравнения первое, домноженное на $(-1)$. Значит, в матрицу $L$ запишем $l_{31}=-1$. \n",
    "\n",
    "Матрица коэффициентов будет иметь вид\n",
    "\n",
    "$$\\begin{pmatrix}\n",
    "2 & 1 & -1 \\\\ \n",
    "0 & -8 & -4 \\\\ \n",
    "0 & 8 & -4\n",
    "\\end{pmatrix},$$\n",
    "\n",
    "а матрица $L$ —\n",
    "\n",
    "$$\\begin{pmatrix}\n",
    "1 & 0 & 0 \\\\ \n",
    "2 & 1 & 0 \\\\ \n",
    "-1 & l_{32} & 1\n",
    "\\end{pmatrix}.$$"
   ]
  },
  {
   "cell_type": "markdown",
   "metadata": {},
   "source": [
    "Далее умножим вторую строку на $(-1)$ и вычтем ее из третьей. При этом в матрицу $L$ на место $l_{32}$ запишем $-1$.\n",
    "\n",
    "В итоге получим\n",
    "\n",
    "$$U=\\begin{pmatrix}\n",
    "2 & 1 & -1 \\\\ \n",
    "0 & -8 & -4 \\\\ \n",
    "0 & 0 & -8\n",
    "\\end{pmatrix},$$\n",
    "\n",
    "$$L=\\begin{pmatrix}\n",
    "1 & 0 & 0 \\\\ \n",
    "2 & 1 & 0 \\\\ \n",
    "-1 & -1 & 1\n",
    "\\end{pmatrix}.$$"
   ]
  },
  {
   "cell_type": "markdown",
   "metadata": {},
   "source": [
    "Решим теперь систему \n",
    "\n",
    "$$Ly=b:$$\n",
    "\n",
    "$$\\begin{cases}\n",
    "y_{1}=5, \\\\\n",
    "2y_{1}+y_{2}=-2, \\\\\n",
    "-y_{1}-y_{2}+y_{3}=7.\n",
    "\\end{cases}$$\n",
    "\n",
    "$$y_{1}=5,$$\n",
    "$$y_{2}=-12,$$\n",
    "$$y_{3}=0.$$\n",
    "\n",
    "И затем систему\n",
    "\n",
    "$$Ux=y:$$\n",
    "\n",
    "$$\\begin{cases}\n",
    "2x_{1}+x_{2}-x_{3}=5, \\\\\n",
    "-8x_{2}-4x_{3}=-12, \\\\\n",
    "-8x_{3}=0.\n",
    "\\end{cases}$$\n",
    "\n",
    "$$x_{3}=0,$$\n",
    "$$x_{2}=3/2,$$\n",
    "$$x_{1}=7/4.$$\n",
    "\n",
    "Произведем проверку, подставив полученные значения переменных в исходную систему:\n",
    "\n",
    "$$\\begin{cases}\n",
    "2\\cdot7/4+3/2-0=5, \\\\\n",
    "4\\cdot7/4-6\\cdot3/2-2\\cdot0=-2, \\\\\n",
    "-2\\cdot7/4+7\\cdot3/2-3\\cdot0=7.\n",
    "\\end{cases}$$\n",
    "\n",
    "Таким образом, найденное решение верно."
   ]
  },
  {
   "cell_type": "markdown",
   "metadata": {},
   "source": [
    "Метод представляется достаточно сложным, так как перед решением необходимо произвести разложение исходной матрицы коэффициентов на произведение верхней и нижней диагональных матриц. Количество операций, необходимых для разложения матрицы на произведение $LU$, — $O(n^{3})$ (как и при классическом методе Гаусса), а для решения двух треугольных систем — $O(n_{2})$, то есть прямой ход на порядок сложнее обратного. Использование метода оправдано в тех случаях, когда небходимо решить большое количество систем уравнений с одной и той же матрицей коэффициентов, но с меняющимися правыми частями. Такие задачи нередко встречаются на практике. В этом случае вместо того, чтобы каждый раз делать проход по методу Гаусса сложностью $O(n^{3})$, можно единожды произвести $LU$-разложение матрицы коэффициентов $A$, и для решения системы с новым вектор-столбцом свободных членов будет достаточно сделать два прохода прямых подстановок сложностью $O(n^{2})$."
   ]
  },
  {
   "cell_type": "code",
   "execution_count": 6,
   "metadata": {},
   "outputs": [
    {
     "name": "stdout",
     "output_type": "stream",
     "text": [
      "[[1 2 3]\n",
      " [4 5 6]\n",
      " [7 8 9]]\n",
      "[[0. 1. 0.]\n",
      " [0. 0. 1.]\n",
      " [1. 0. 0.]]\n",
      "[[1.         0.         0.        ]\n",
      " [0.14285714 1.         0.        ]\n",
      " [0.57142857 0.5        1.        ]]\n",
      "[[ 7.00000000e+00  8.00000000e+00  9.00000000e+00]\n",
      " [ 0.00000000e+00  8.57142857e-01  1.71428571e+00]\n",
      " [ 0.00000000e+00  0.00000000e+00 -1.58603289e-16]]\n",
      "[[1. 2. 3.]\n",
      " [4. 5. 6.]\n",
      " [7. 8. 9.]]\n"
     ]
    }
   ],
   "source": [
    "# LU decomposition\n",
    "from numpy import array\n",
    "from scipy.linalg import lu\n",
    "# define a square matrix\n",
    "A = array([[1, 2, 3], [4, 5, 6], [7, 8, 9]])\n",
    "print(A)\n",
    "# LU decomposition\n",
    "P, L, U = lu(A)\n",
    "print(P)\n",
    "print(L)\n",
    "print(U)\n",
    "# reconstruct\n",
    "B = P.dot(L).dot(U)\n",
    "print(B)"
   ]
  },
  {
   "cell_type": "markdown",
   "metadata": {},
   "source": [
    "Про матричные разложения\n",
    "\n",
    "\n",
    "\n",
    "https://www.coursera.org/lecture/unsupervised-learning/matrichnyie-razlozhieniia-DUBp9"
   ]
  },
  {
   "cell_type": "markdown",
   "metadata": {},
   "source": [
    "## Метод Холецкого\n",
    "\n",
    "Метод Холецкого — еще один способ решения систем линейных уравнений, связанный с преобразованием матрицы коэффициентов к треугольной форме. Также известен как _метод квадратного корня_."
   ]
  },
  {
   "cell_type": "markdown",
   "metadata": {},
   "source": [
    "Он заключается в разложении матрицы $A$ (при соблюдении условий ее симметричности и положительной определенности-(все ее собственные значения положительны) на произведение матриц \n",
    "\n",
    "$$A=LL^{T}.$$\n",
    "\n",
    "В этом разложении $L$ — нижняя треугольная матрица со строго положительными элементами на диагонали."
   ]
  },
  {
   "cell_type": "markdown",
   "metadata": {},
   "source": [
    "После получения разложения, аналогично методу $LU$-разложения, нужно представить систему уравнений в матричной форме как\n",
    "\n",
    "$$Ax=LL^{T}x=Ly=b$$\n",
    "\n",
    "и затем методом прямой подстановки решить последовательно две простые системы, характеризующиеся треугольными матрицами коэффициентов:\n",
    "\n",
    "$$Ly=b,$$\n",
    "$$L^{T}x=y.$$"
   ]
  },
  {
   "cell_type": "markdown",
   "metadata": {},
   "source": [
    "Найдем искомое разложениие.\n",
    "\n",
    "Из условия разложения, имея в виду правила умножения матриц, получаем\n",
    "\n",
    "$$a_{ij}=\\sum_{k=1}^{n}l_{ik}l_{kj}^{T},$$\n",
    "\n",
    "где $l_{ij}$ и $l_{ij}^{T}$ — элементы матриц $L$ и $L^{T}$ соответственно ($l_{ij}^{T}=l_{ji}$)."
   ]
  },
  {
   "cell_type": "markdown",
   "metadata": {},
   "source": [
    "В частности, при $i<j$ получим \n",
    "\n",
    "$$a_{ij}=\\sum_{k=1}^{j-1}l_{ik}l_{jk},$$\n",
    "\n",
    "$$l_{ij}=\\frac{1}{l_{jj}}\\left( a_{ij}-\\sum_{k=1}^{j-1}l_{ik}l_{jk}\\right ).$$"
   ]
  },
  {
   "cell_type": "markdown",
   "metadata": {},
   "source": [
    "При $i=j$:\n",
    "\n",
    "$$a_{ij}=\\sum_{k=1}^{i-1}l_{ik}^{2}+l_{ii}^{2}~~\\Rightarrow$$\n",
    "\n",
    "$$l_{ii}=\\sqrt{a_{ii}-\\sum_{k=1}^{i-1}l_{ik}^{2}}.$$"
   ]
  },
  {
   "cell_type": "markdown",
   "metadata": {},
   "source": [
    "Если $A$ — вещественная симметричная положительно определенная матрица, то выражение под корнем будет всегда положительно."
   ]
  },
  {
   "cell_type": "markdown",
   "metadata": {},
   "source": [
    "Таким образом, элементы матрицы $L$ для нахождения $LL^{T}$-разложения вычисляются по следуюшим формулам:\n",
    "\n",
    "$$l_{ii}=\\sqrt{a_{ii}-\\sum_{k=1}^{i-1}l_{ik}^{2}},$$\n",
    "$$l_{ij}=\\frac{1}{l_{jj}}\\left( a_{ij}-\\sum_{k=1}^{j-1}l_{ik}l_{jk}\\right ), \\; j < i.$$"
   ]
  },
  {
   "cell_type": "markdown",
   "metadata": {},
   "source": [
    "__Пример__\n",
    "\n",
    "Решить методом Холецкого систему уравнений\n",
    "\n",
    "$$\\begin{cases}\n",
    "2x_{1}+x_{2}+4x_{3}=16, \\\\\n",
    "x_{1}+x_{2}+3x_{3}=12, \\\\\n",
    "4x_{1}+3x_{2}+14x_{3}=52.\n",
    "\\end{cases}$$"
   ]
  },
  {
   "cell_type": "markdown",
   "metadata": {},
   "source": [
    "Произведем разложение на $LL^{T}$:\n",
    "\n",
    "$$l_{11}=\\sqrt{a_{11}}=\\sqrt{2},$$\n",
    "$$l_{21}=\\frac{a_{21}}{l_{11}}=\\frac{1}{\\sqrt{2}},$$\n",
    "$$l_{31}=\\frac{a_{31}}{l_{11}}=\\frac{4}{\\sqrt{2}},$$\n",
    "\n",
    "$$l_{22}=\\sqrt{a_{22}-u_{21}^{2}}=\\sqrt{1 - \\frac{1}{2}}=\\frac{1}{\\sqrt{2}},$$\n",
    "$$l_{32}=\\frac{1}{l_{22}}\\left ( a_{32}-l_{21}l_{31} \\right)=\\sqrt{2}\\left ( 3 - \\frac{1}{\\sqrt{2}}\\cdot \\frac{4}{\\sqrt{2}} \\right )=\\sqrt{2},$$\n",
    "\n",
    "$$l_{33}=\\sqrt{a_{33}-l_{13}^{2}-l_{23}^{2}}=\\sqrt{14-8-2}=2.$$"
   ]
  },
  {
   "cell_type": "markdown",
   "metadata": {},
   "source": [
    "Получили матрицу \n",
    "\n",
    "$$L = \\begin{pmatrix}\n",
    "\\sqrt{2} & 0 & 0 \\\\ \n",
    "\\frac{1}{\\sqrt{2}} & \\frac{1}{\\sqrt{2}} & 0 \\\\ \n",
    "\\frac{4}{\\sqrt{2}} & \\sqrt{2} & 2\n",
    "\\end{pmatrix}, \n",
    "\\; \\; \n",
    "L^{T} = \\begin{pmatrix}\n",
    "\\sqrt{2} & \\frac{1}{\\sqrt{2}} & \\frac{4}{\\sqrt{2}} \\\\ \n",
    "0 & \\frac{1}{\\sqrt{2}} & \\sqrt{2} \\\\ \n",
    "0 & 0 & 2\n",
    "\\end{pmatrix}.$$"
   ]
  },
  {
   "cell_type": "markdown",
   "metadata": {},
   "source": [
    "Решим систему $Ly=b:$\n",
    "\n",
    "$$\\begin{cases}\n",
    "\\sqrt{2}y_{1}=16, \\\\\n",
    "\\frac{1}{\\sqrt{2}}y_{1}+\\frac{1}{\\sqrt{2}}y_{2}=12, \\\\\n",
    "\\frac{4}{\\sqrt{2}}y_{1}+\\sqrt{2}y_{2}+2y_{3}=52.\n",
    "\\end{cases}$$\n",
    "\n",
    "$$y_{1} = 8\\sqrt{2},$$\n",
    "\n",
    "$$y_{2}=12\\sqrt{2}-8\\sqrt{2}=4\\sqrt{2},$$\n",
    "\n",
    "$$y_{3}=\\frac{52-32-8}{2}=6.$$"
   ]
  },
  {
   "cell_type": "markdown",
   "metadata": {},
   "source": [
    "И решим систему $L^{T}x=y:$\n",
    "\n",
    "$$\\begin{cases}\n",
    "\\sqrt{2}x_{1}+\\frac{1}{\\sqrt{2}}x_{2}+\\frac{4}{\\sqrt{2}}x_{3}=8\\sqrt{2}, \\\\\n",
    "\\frac{1}{\\sqrt{2}}x_{2}+\\sqrt{2}x_{3}=4\\sqrt{2}, \\\\\n",
    "2x_{3}=6.\n",
    "\\end{cases}$$\n",
    "\n",
    "$$x_{3}=3,$$\n",
    "\n",
    "$$x_{2}=8-2\\cdot3=2,$$\n",
    "\n",
    "$$x_{1}=\\frac{16-12-2}{2}=1.$$"
   ]
  },
  {
   "cell_type": "markdown",
   "metadata": {},
   "source": [
    "Осуществим проверку, подставив полученные значения в исходную систему:\n",
    "\n",
    "$$\\begin{cases}\n",
    "2\\cdot1+2+4\\cdot3=16, \\\\\n",
    "1+2+3\\cdot3=12, \\\\\n",
    "4\\cdot1+3\\cdot2+14\\cdot3=52.\n",
    "\\end{cases}$$"
   ]
  },
  {
   "cell_type": "markdown",
   "metadata": {},
   "source": [
    "Как и $LU$-разложение, этот метод более производителен, чем обычный метод Гаусса, в связи с чем часто используется для решения инженерных задач. Вычисление по формулам нахождения $l_{ii}$ и $l_{ij}$ будут иметь сложность $\\frac{1}{3}n^{3}+O(n^{2})$, и затем после разложения производится обратный ход метода Гаусса со сложностью $O(n^{2})$."
   ]
  },
  {
   "cell_type": "code",
   "execution_count": null,
   "metadata": {},
   "outputs": [],
   "source": [
    "# Cholesky decomposition\n",
    "from numpy import array\n",
    "from numpy.linalg import cholesky\n",
    "# define a 3x3 matrix\n",
    "A = array([[2, 1, 1], [1, 2, 1], [1, 1, 2]])\n",
    "print(A)\n",
    "# Cholesky decomposition\n",
    "L = cholesky(A)\n",
    "print(L)\n",
    "# reconstruct\n",
    "B = L.dot(L.T)\n",
    "print(B)"
   ]
  },
  {
   "cell_type": "markdown",
   "metadata": {},
   "source": [
    "Разложение Холецкого используется для решения линейных наименьших квадратов для линейной регрессии, а также для методов моделирования и оптимизации.\n",
    "\n",
    "При разложении симметричных матриц разложение Холецкого почти в два раза эффективнее разложения LU и должно быть предпочтительным в этих случаях."
   ]
  },
  {
   "cell_type": "markdown",
   "metadata": {},
   "source": [
    "Многие  важные  алгоритмы  машинного  обучения  можно  рассматривать  с точки зрения разложения матрицы. Предположим, нам дана матрица признаков A размером n × m, где в соответствии с обычным соглашением строки представляют элементы/примеры, а столбцы представляют признаки примеров."
   ]
  },
  {
   "attachments": {
    "image.png": {
     "image/png": "[encoded data removed]"
    }
   },
   "cell_type": "markdown",
   "metadata": {},
   "source": [
    "![image.png](attachment:image.png)"
   ]
  },
  {
   "cell_type": "markdown",
   "metadata": {},
   "source": [
    "Разложение матрицы признаков A ≈ BC дает B как более краткое представление элементов и C как более сжатое представление признаков A"
   ]
  },
  {
   "cell_type": "markdown",
   "metadata": {},
   "source": [
    "Совместно B и C обеспечивают сжатое представление матрицы A. Матрицы признаков, как правило, большие и неудобные для работы. Разложение обеспечивает способ кодирования всей информации большой матрицы в две меньшие матрицы, которые вместе будут меньше исходной. B служит меньшей матрицей признаков для элементов, заменяя A. \n",
    "\n",
    "Разложение матрицы B имеет n строк, точно так же, как исходная матрица A. Но у нее существенно меньше столбцов, поскольку k < m. Это означает, что “большая часть” информации в A теперь закодирована в B. Меньшее количество столбцов означает меньшую матрицу и меньшее количество параметров,  подходящих  для  любой  модели,  построенной  с  использованием этих новых признаков. Эти более абстрактные признаки могут также представлять интерес для других приложений, поскольку являются краткими описаниями строк набора данных.\n",
    "\n",
    "C  служит меньшей матрицей признаков, заменяя A. Транспонирование  матрицы  признаков  превращает  столбцы/признаки  в  строки/элементы. "
   ]
  },
  {
   "cell_type": "markdown",
   "metadata": {},
   "source": [
    "# Сингулярное разложение матриц"
   ]
  },
  {
   "cell_type": "markdown",
   "metadata": {},
   "source": [
    "Здесь речь пойдет о разделе линейной алгебры, максимально близком к прикладным вопросам в области машинного обучения, в частности, об одном из самых широко используемых методов разложения матриц. \n",
    "\n",
    "\n",
    "Для любой ненулевой вещественной матрицы $A$ размером $m\\times n$ существуют две вещественные ортогональные матрицы $U$ и $V$, такие, что $U^{T}AV$ является матрицей $D$ размера $m\\times n$ с неотрицательными элементами на главной диагонали (в прямоугольной матрице под главной диагональю будем понимать совокупность элементов $d_{ii}$). Все элементы матрицы $D$, не лежащие на главной диагонали, являются нулевыми."
   ]
  },
  {
   "cell_type": "markdown",
   "metadata": {},
   "source": [
    "Представление матрицы $A$ в виде\n",
    "\n",
    "$$A=UDV^{T}$$\n",
    "\n",
    "называется _сингулярным разложением (Singular Values Decomposition, SVD)_.\n",
    "\n",
    "Разложение по сингулярным значениям действительной матрицы A размером m× n делит ее на три матрицы U, D и V с размерами m × m, m × n и n × n со-ответственно.\n",
    "\n",
    "Центральная матрица D обладает свойством диагональной матрицы, т.е. все ненулевые значения лежат на главной диагонали, как единичная матрица I."
   ]
  },
  {
   "cell_type": "markdown",
   "metadata": {},
   "source": [
    "Элементы, лежащие на главной диагонали матрицы $D$, называются _сингулярными числами_ матрицы $A$. Столбцы матриц $U$ и $V$ называются _левыми и правыми сингулярными векторами_ матрицы $A$ соответственно."
   ]
  },
  {
   "cell_type": "markdown",
   "metadata": {},
   "source": [
    "__Геометрический смысл SVD__\n",
    "\n",
    "Пусть матрица $A$ размера $m\\times n$ описывает линейный оператор, обозначаемый $\\textbf{A}$. Сингулярное разложение матрицы $A=UDV^{T}$ тогда можно будет переформулировать в геометрическом контексте: линейный оператор, характеризующий сложное отображение элементов пространства $\\mathbb{R}^{m}$ в элементы пространства $\\mathbb{R}^{n}$, можно будет представить в виде последовательно выполняемых простых линейных операций вращения (ортогональный оператор $U$), растяжения (диагональный оператор $D$) и снова вращения (ортогональный оператор $V^{T}$).\n",
    "\n",
    "Поэтому компоненты сингулярного разложения показывают геометрические изменения при отображении линейным оператором $\\textbf{A}$ векторов из одного линейного пространства в другое.\n",
    "\n"
   ]
  },
  {
   "cell_type": "markdown",
   "metadata": {},
   "source": [
    "1. SVD значительно упрщает  работу с линейным преобразованием из одного векторного пространста в другое.\n",
    "\n",
    "2. Полезен при вычислении определителей. \n",
    "\n",
    "SVD-разложение является удобным методом работы с матрицами и имеет большое количество практических применений, в том числе в алгоритмах машинного обучения и анализе данных. Оно демонстрирует геометрическую структуру матрицы и позволяет наглядно показать данные, имеющиеся в ней. Сингулярное разложение используется при решении самых разнообразных задач — от приближения и вычисления ранга матриц до распознавания изображений и построения рекомендательных систем.\n"
   ]
  },
  {
   "cell_type": "markdown",
   "metadata": {},
   "source": [
    "В Python сингулярное разложение производится при помощи функции `numpy.linalg.svd(a)`, где `a` — матрица. На выходе она дает три объекта — матрицу $U$, список, состоящий из сингулярных чисел, и матрицу $V^{T}$.\n",
    "\n",
    "\n",
    "Найдем разложение для матрицы \n",
    "\n",
    "$$A=\\begin{pmatrix}\n",
    "0.96 & 1.72\\\\ \n",
    "2.28 & 0.96\n",
    "\\end{pmatrix}.$$"
   ]
  },
  {
   "cell_type": "code",
   "execution_count": 24,
   "metadata": {},
   "outputs": [],
   "source": [
    "import numpy as np\n",
    "np.set_printoptions(precision=2, suppress=True) #Эти параметры определяют способ отображения чисел с плавающей запятой"
   ]
  },
  {
   "cell_type": "code",
   "execution_count": 25,
   "metadata": {},
   "outputs": [
    {
     "name": "stdout",
     "output_type": "stream",
     "text": [
      "Матрица A:\n",
      "[[0.96 1.72]\n",
      " [2.28 0.96]]\n"
     ]
    }
   ],
   "source": [
    "A = np.array([[0.96, 1.72],\n",
    "              [2.28, 0.96]])\n",
    "print(f'Матрица A:\\n{A}')"
   ]
  },
  {
   "cell_type": "code",
   "execution_count": 26,
   "metadata": {},
   "outputs": [],
   "source": [
    "U, s, W = np.linalg.svd(A)\n",
    "\n",
    "# Транспонируем матрицу W\n",
    "V = W.T\n",
    "\n",
    "# s - список диагональных элементов, его нужно привести к виду диагональной матрицы для наглядности\n",
    "D = np.zeros_like(A, dtype=float)\n",
    "D[np.diag_indices(min(A.shape))] = s"
   ]
  },
  {
   "cell_type": "code",
   "execution_count": 27,
   "metadata": {},
   "outputs": [
    {
     "name": "stdout",
     "output_type": "stream",
     "text": [
      "Матрица D:\n",
      "[[3. 0.]\n",
      " [0. 1.]]\n"
     ]
    }
   ],
   "source": [
    "print(f'Матрица D:\\n{D}')"
   ]
  },
  {
   "cell_type": "code",
   "execution_count": 28,
   "metadata": {},
   "outputs": [
    {
     "name": "stdout",
     "output_type": "stream",
     "text": [
      "Матрица U:\n",
      "[[-0.6 -0.8]\n",
      " [-0.8  0.6]]\n"
     ]
    }
   ],
   "source": [
    "print(f'Матрица U:\\n{U}')"
   ]
  },
  {
   "cell_type": "code",
   "execution_count": 29,
   "metadata": {},
   "outputs": [
    {
     "name": "stdout",
     "output_type": "stream",
     "text": [
      "[[1. 0.]\n",
      " [0. 1.]]\n"
     ]
    }
   ],
   "source": [
    "# Убедимся, что она действительно ортогональна\n",
    "print(np.dot(U.T, U))"
   ]
  },
  {
   "cell_type": "code",
   "execution_count": 30,
   "metadata": {},
   "outputs": [
    {
     "name": "stdout",
     "output_type": "stream",
     "text": [
      "Матрица V:\n",
      "[[-0.8  0.6]\n",
      " [-0.6 -0.8]]\n"
     ]
    }
   ],
   "source": [
    "print(f'Матрица V:\\n{V}')"
   ]
  },
  {
   "cell_type": "code",
   "execution_count": 31,
   "metadata": {},
   "outputs": [
    {
     "name": "stdout",
     "output_type": "stream",
     "text": [
      "[[ 1. -0.]\n",
      " [-0.  1.]]\n"
     ]
    }
   ],
   "source": [
    "# Убедимся, что она действительно ортогональна\n",
    "print(np.dot(V.T, V))"
   ]
  },
  {
   "cell_type": "code",
   "execution_count": 32,
   "metadata": {},
   "outputs": [
    {
     "name": "stdout",
     "output_type": "stream",
     "text": [
      "[[0.96 1.72]\n",
      " [2.28 0.96]]\n"
     ]
    }
   ],
   "source": [
    "# Проведем проверку\n",
    "print(np.dot(np.dot(U, D), V.T))"
   ]
  },
  {
   "attachments": {
    "image.png": {
     "image/png": "[encoded data removed]"
    }
   },
   "cell_type": "markdown",
   "metadata": {},
   "source": [
    "![image.png](attachment:image.png)"
   ]
  },
  {
   "attachments": {
    "image.png": {
     "image/png": "[encoded data removed]"
    }
   },
   "cell_type": "markdown",
   "metadata": {},
   "source": [
    "![image.png](attachment:image.png)"
   ]
  },
  {
   "cell_type": "markdown",
   "metadata": {},
   "source": [
    "На практике данные для обработки в большинстве случаев поступают с определенным уровнем шума, в связи с чем не вся информация, содержащаяся в матрице, представляет для анализатора ценность. Таким образом, имеет место задача о нахождении лучше аппроксимации исходной матрицы  𝑋  размера  𝑚×𝑛  и ранга  𝑟  некоторой матрицей, ранг которой не превышает заданное число  𝑘 .\n",
    "Матрица может быть представлена как произведение двух матриц (обозначим его как  𝑈𝑉𝑇 , где  𝑈  имеет размер  𝑚×𝑘 ,  𝑉  —  𝑛×𝑘 )."
   ]
  },
  {
   "cell_type": "markdown",
   "metadata": {},
   "source": []
  },
  {
   "cell_type": "markdown",
   "metadata": {},
   "source": [
    "В случае задачи приближения все сводится к тому, чтобы найти такие матрицы $U$ и $V$, чтобы исходная матрица $X$ и матрица $UV^{T}$ отличались незначительно. Для оценки степени «близости» матриц обычно используется норма Фробениуса, и задача поиска оптимального разложения сводится к нахождению комбинации $U$ и $V$, дающей минимальную норму разности $\\left \\| X - UV^{T} \\right \\|$.\n",
    "\n",
    "Другими словами, задача сводится к нахождению матриц $U$ и $V$, удовлетворяющих условию\n",
    "\n",
    "$$\\sum_{ij}(x_{ij}-u_{i}v_{j}^{T})^{2}\\rightarrow\\text{min}.$$"
   ]
  },
  {
   "cell_type": "markdown",
   "metadata": {},
   "source": [
    "Если исходная матрица $X$ была матрицей признаков объектов, то после такого преобразования матрица $U$ может быть интерпретирована как матрица новых признаков для тех же объектов, при этом происходит уменьшение размерности пространства признаков с минимальными потерями полезной информации."
   ]
  },
  {
   "cell_type": "markdown",
   "metadata": {},
   "source": [
    "Посмтотреть пример \n",
    "\n",
    "https://www.coursera.org/lecture/unsupervised-learning/matrichnyie-razlozhieniia-DUBp9"
   ]
  },
  {
   "cell_type": "code",
   "execution_count": null,
   "metadata": {},
   "outputs": [],
   "source": []
  },
  {
   "cell_type": "code",
   "execution_count": null,
   "metadata": {},
   "outputs": [],
   "source": []
  },
  {
   "cell_type": "code",
   "execution_count": null,
   "metadata": {},
   "outputs": [],
   "source": []
  },
  {
   "cell_type": "markdown",
   "metadata": {
    "colab_type": "text",
    "id": "J2D422I0ZS5N"
   },
   "source": [
    "## Практическое задание"
   ]
  },
  {
   "cell_type": "code",
   "execution_count": 1,
   "metadata": {},
   "outputs": [],
   "source": [
    "import numpy as np"
   ]
  },
  {
   "cell_type": "markdown",
   "metadata": {
    "colab_type": "text",
    "id": "cTVfl123ZS5O"
   },
   "source": [
    "__1.__ Решить систему уравнений методом Гаусса:\n",
    "\n",
    "$$\\begin{cases}\n",
    "x_{1}+x_{2}-x_{3}-2x_{4}=0, \\\\\n",
    "2x_{1}+x_{2}-x_{3}+x_{4}=-2, \\\\\n",
    "x_{1}+x_{2}-3x_{3}+x_{4}=4.\n",
    "\\end{cases}$$"
   ]
  },
  {
   "cell_type": "markdown",
   "metadata": {},
   "source": [
    "__РЕШЕНИЕ__\n",
    "\n",
    "$$\\begin{pmatrix}\n",
    "\\left.\\begin{matrix}\n",
    "1 & 1 & -1 & -2\\\\ \n",
    "2 & 1 & -1 & 1\\\\ \n",
    "1 & 1 & -3 & 1\n",
    "\\end{matrix}\\right|\n",
    "\\begin{matrix}\n",
    "0\\\\ \n",
    "-2\\\\\n",
    "4\\\\\n",
    "\\end{matrix}\n",
    "\\end{pmatrix}\\Leftrightarrow \\begin{pmatrix}\n",
    "\\left.\\begin{matrix}\n",
    "1 & 1 & -1 & -2\\\\ \n",
    "0 & -1 & 1 & 5\\\\ \n",
    "0 & 0 & -2 & 3\n",
    "\\end{matrix}\\right|\n",
    "\\begin{matrix}\n",
    "0\\\\ \n",
    "-2\\\\\n",
    "4\\\\\n",
    "\\end{matrix}\n",
    "\\end{pmatrix}\\Leftrightarrow \\begin{pmatrix}\n",
    "\\left.\\begin{matrix}\n",
    "1 & 0 & 0 & 3\\\\ \n",
    "0 & 1 & 0 & -6.5\\\\ \n",
    "0 & 0 & 1 & -1.5\n",
    "\\end{matrix}\\right|\n",
    "\\begin{matrix}\n",
    "-2\\\\ \n",
    "0\\\\\n",
    "-2\\\\\n",
    "\\end{matrix}\n",
    "\\end{pmatrix}\\Leftrightarrow\\begin{cases}\n",
    "x_{1}=-2-3x_4 \\\\\n",
    "x_{2}=6.5x_4 \\\\\n",
    "x_{3}=1.5x_4-2\n",
    "\\end{cases}$$\n",
    "\n",
    "СЛАУ имеет бесконечное кол-во решение указанного вида"
   ]
  },
  {
   "cell_type": "markdown",
   "metadata": {},
   "source": [
    "__2.__ Проверить на совместность и выяснить, сколько решений будет иметь система линейных уравнений:\n",
    "\n",
    "   а) $\\begin{cases}\n",
    "3x_{1}-x_{2}+x_{3}=4, \\\\\n",
    "2x_{1}-5x_{2}-3x_{3}=-17, \\\\\n",
    "x_{1}+x_{2}-x_{3}=0;\n",
    "\\end{cases}\\leftrightarrow\\begin{cases}\n",
    "x_{1}=1, \\\\\n",
    "x_{3}=3, \\\\\n",
    "x_{2}=2;\n",
    "\\end{cases}$\n",
    "\n",
    "СЛАУ совместимая с одним решением"
   ]
  },
  {
   "cell_type": "code",
   "execution_count": 2,
   "metadata": {},
   "outputs": [
    {
     "name": "stdout",
     "output_type": "stream",
     "text": [
      "Ранг матрицы коэфициентов: 3\n",
      "Ранг расширенной матрицы: 3\n"
     ]
    }
   ],
   "source": [
    "import numpy as np\n",
    "A = np.array([[3, -1, 1], [2, -5, -3], [1, 1, -1]])\n",
    "print(\"Ранг матрицы коэфициентов:\", np.linalg.matrix_rank(A))\n",
    "A_ = np.array([[3, -1, 1, 4], [2, -5, -3, -17], [1, 1, -1, 0]])\n",
    "print(\"Ранг расширенной матрицы:\", np.linalg.matrix_rank(A_))"
   ]
  },
  {
   "cell_type": "markdown",
   "metadata": {},
   "source": [
    "б) $\\begin{cases}\n",
    "2x_{1}-4x_{2}+6x_{3}=1, \\\\\n",
    "x_{1}-2x_{2}+3x_{3}=-2, \\\\\n",
    "3x_{1}-6x_{2}+9x_{3}=5;\n",
    "\\end{cases}\\leftrightarrow \\begin{cases}\n",
    "0=5, \\\\\n",
    "x_{1}-2x_{2}+3x_{3}=-2, \\\\\n",
    "0=11;\n",
    "\\end{cases}$\n",
    "\n",
    "СЛАУ несовместимая и не имеет решений"
   ]
  },
  {
   "cell_type": "code",
   "execution_count": 20,
   "metadata": {},
   "outputs": [
    {
     "name": "stdout",
     "output_type": "stream",
     "text": [
      "Ранг матрицы коэфициентов: 2\n",
      "Ранг расширенной матрицы: 3\n"
     ]
    }
   ],
   "source": [
    "import numpy as np\n",
    "A = np.array([[2,-4,-6],[1,-2,3],[3,-6,9]])\n",
    "print(\"Ранг матрицы коэфициентов:\", np.linalg.matrix_rank(A))\n",
    "A_ = np.array([[2,-4,-6,1],[1,-2,3,-2],[3,-6,9,5]])\n",
    "print(\"Ранг расширенной матрицы:\", np.linalg.matrix_rank(A_))"
   ]
  },
  {
   "cell_type": "markdown",
   "metadata": {},
   "source": [
    "в) $\\begin{cases}\n",
    "x_{1}+2x_{2}+5x_{3}=4, \\\\\n",
    "3x_{1}+x_{2}-8x_{3}=-2. \n",
    "\\end{cases} \\leftrightarrow\\begin{cases}\n",
    "5x_{1} = 21x_3 - 8, \\\\\n",
    "5x_{2} = 14 - 23x_3 \n",
    "\\end{cases}$\n",
    "\n",
    "СЛАУ совместимая с бесконечным кол-вом решений"
   ]
  },
  {
   "cell_type": "code",
   "execution_count": 3,
   "metadata": {},
   "outputs": [
    {
     "name": "stdout",
     "output_type": "stream",
     "text": [
      "Ранг матрицы коэфициентов: 2\n",
      "Ранг расширенной матрицы: 2\n"
     ]
    }
   ],
   "source": [
    "A = np.array([[1,2,5],[3,1,-8]])\n",
    "print(\"Ранг матрицы коэфициентов:\", np.linalg.matrix_rank(A))\n",
    "A_ = np.array([[1,2,5,4],[3,1,-8,-2]])\n",
    "print(\"Ранг расширенной матрицы:\", np.linalg.matrix_rank(A_))"
   ]
  },
  {
   "cell_type": "markdown",
   "metadata": {},
   "source": [
    "__3.__ Проверить на совместность и выяснить, сколько решений будет иметь система линейных уравнений, заданная расширенной матрицей\n",
    "\n",
    "$$\\tilde{A}=\\begin{pmatrix}\n",
    "\\left.\\begin{matrix}\n",
    "1 & 3 & -2 & 4\\\\ \n",
    "0 & 5 & 0 & 1\\\\ \n",
    "0 & 0 & 3 & 0\\\\ \n",
    "0 & 0 & 0 & 2\n",
    "\\end{matrix}\\right|\n",
    "\\begin{matrix}\n",
    "3\\\\ \n",
    "2\\\\\n",
    "4\\\\\n",
    "1\n",
    "\\end{matrix}\n",
    "\\end{pmatrix}.$$\n"
   ]
  },
  {
   "cell_type": "code",
   "execution_count": 4,
   "metadata": {},
   "outputs": [
    {
     "name": "stdout",
     "output_type": "stream",
     "text": [
      "Ранг матрицы коэфициентов: 4\n",
      "Ранг расширенной матрицы: 4\n",
      "Согласно Теореме Кронекера — Капелли система совместима и имеет одно решение так как ранг матрицы коэфициентов и расширеной матрицы совпадают и равны числу неизвестных\n"
     ]
    }
   ],
   "source": [
    "import numpy as np\n",
    "A = np.array([[1,3,-2,4],[0,5,0,1],[0,0,3,0],[0,0,0,2]])\n",
    "\n",
    "A_ = np.array([[1,3,-2,4,3],[0,5,0,1,2],[0,0,3,0,4],[0,0,0,2,1]])\n",
    "\n",
    "print(\"Ранг матрицы коэфициентов:\", np.linalg.matrix_rank(A))\n",
    "print(\"Ранг расширенной матрицы:\", np.linalg.matrix_rank(A_))\n",
    "print(\"Согласно Теореме Кронекера — Капелли система совместима и имеет одно решение так как ранг матрицы коэфициентов и расширеной матрицы совпадают и равны числу неизвестных\")"
   ]
  },
  {
   "cell_type": "markdown",
   "metadata": {},
   "source": [
    "__4.__ Дана система линейных уравнений, заданная расширенной матрицей\n",
    "\n",
    "$$\\tilde{A}=\\begin{pmatrix}\n",
    "\\left.\\begin{matrix}\n",
    "1 & 2 & 3\\\\ \n",
    "4 & 5 & 6\\\\ \n",
    "7 & 8 & 9\n",
    "\\end{matrix}\\right|\n",
    "\\begin{matrix}\n",
    "a\\\\ \n",
    "b\\\\\n",
    "c\n",
    "\\end{matrix}\n",
    "\\end{pmatrix}.$$\n",
    "\n",
    "Найти соотношение между параметрами $a$, $b$ и $c$, при которых система является несовместной."
   ]
  },
  {
   "cell_type": "markdown",
   "metadata": {},
   "source": [
    "В случае если равенство\n",
    "\n",
    "$c = 2b - a$\n",
    "\n",
    "не выполняется, система является не совместной"
   ]
  },
  {
   "cell_type": "markdown",
   "metadata": {},
   "source": [
    "__5.__ Решить систему уравнений методом Крамера:\n",
    "\n",
    "   а) $\\begin{cases}\n",
    "x_{1}-2x_{2}=1 \\\\\n",
    "3x_{1}-4x_{2}=7\n",
    "\\end{cases}$"
   ]
  },
  {
   "cell_type": "code",
   "execution_count": 5,
   "metadata": {},
   "outputs": [
    {
     "name": "stdout",
     "output_type": "stream",
     "text": [
      "х1 = 5\n",
      "х2 = 2\n"
     ]
    }
   ],
   "source": [
    "A = np.array([[1,-2],[3,-4]])\n",
    "A1 = np.array([[1,-2],[7,-4]])\n",
    "A2 = np.array([[1,1],[3,7]])\n",
    "print(f'х1 = {np.linalg.det(A1)/np.linalg.det(A):.0f}')\n",
    "print(f'х2 = {np.linalg.det(A2)/np.linalg.det(A):.0f}')"
   ]
  },
  {
   "cell_type": "markdown",
   "metadata": {},
   "source": [
    " __6.__ Найти $L$-матрицу $LU$-разложения для матрицы коэффициентов:"
   ]
  },
  {
   "cell_type": "markdown",
   "metadata": {},
   "source": [
    "  $$\\begin{pmatrix}\n",
    "1 & 2 & 4 \\\\ \n",
    "2 & 9 & 12 \\\\ \n",
    "3 & 26 & 30\n",
    "\\end{pmatrix}$$"
   ]
  },
  {
   "cell_type": "markdown",
   "metadata": {},
   "source": [
    "$$L = \\begin{pmatrix}\n",
    "1 & 0 & 0 \\\\ \n",
    "2 & 1 & 0 \\\\ \n",
    "3 & 4 & 1\n",
    "\\end{pmatrix}$$"
   ]
  },
  {
   "cell_type": "code",
   "execution_count": 6,
   "metadata": {},
   "outputs": [
    {
     "name": "stdout",
     "output_type": "stream",
     "text": [
      "[[ 1.  2.  4.]\n",
      " [ 2.  9. 12.]\n",
      " [ 3. 26. 30.]]\n",
      "L-матрица:\n",
      "[[1.         0.         0.        ]\n",
      " [0.66666667 1.         0.        ]\n",
      " [0.33333333 0.8        1.        ]]\n"
     ]
    }
   ],
   "source": [
    "from scipy.linalg import lu\n",
    "A = np.array([[1, 2, 4], [2, 9, 12], [3, 26, 30]])\n",
    "P, L, U = lu(A)\n",
    "B = P.dot(L).dot(U)\n",
    "print(B)\n",
    "print('L-матрица:')\n",
    "print(L)"
   ]
  },
  {
   "cell_type": "markdown",
   "metadata": {},
   "source": [
    "__7.__ Решить систему линейных уравнений методом $LU$-разложения\n",
    "\n",
    "$$\\begin{cases}\n",
    "2x_{1}+x_{2}+3x_{3}=1 \\\\\n",
    "11x_{1}+7x_{2}+5x_{3}=-6 \\\\\n",
    "9x_{1}+8x_{2}+4x_{3}=-5\n",
    "\\end{cases}$$"
   ]
  },
  {
   "cell_type": "markdown",
   "metadata": {},
   "source": [
    "__8.__ Решить систему линейных уравнений методом Холецкого\n",
    "\n",
    "$$\\begin{cases}\n",
    "81x_{1}-45x_{2}+45x_{3}=531 \\\\\n",
    "-45x_{1}+50x_{2}-15x_{3}=-460 \\\\\n",
    "45x_{1}-15x_{2}+38x_{3}=193\n",
    "\\end{cases}$$"
   ]
  },
  {
   "cell_type": "code",
   "execution_count": 8,
   "metadata": {},
   "outputs": [
    {
     "name": "stdout",
     "output_type": "stream",
     "text": [
      "[[ 9.  0.  0.]\n",
      " [-5.  5.  0.]\n",
      " [ 5.  2.  3.]]\n"
     ]
    }
   ],
   "source": [
    "from numpy.linalg import cholesky\n",
    "\n",
    "A = np.array([[81, -45, 45], [-45, 50, -15], [45, -15, 38]])\n",
    "\n",
    "L = cholesky(A)\n",
    "print(L)"
   ]
  },
  {
   "cell_type": "markdown",
   "metadata": {},
   "source": [
    "9. 1. Найти с помощью NumPy SVD для матрицы\n",
    "\n",
    "$$\\begin{pmatrix}\n",
    "1 & 2 & 0\\\\ \n",
    "0 & 0 & 5\\\\ \n",
    "3 & -4 & 2\\\\ \n",
    "1 & 6 & 5\\\\ \n",
    "0 & 1 & 0\n",
    "\\end{pmatrix}.$$"
   ]
  },
  {
   "cell_type": "code",
   "execution_count": 7,
   "metadata": {},
   "outputs": [
    {
     "name": "stdout",
     "output_type": "stream",
     "text": [
      "Матрица D:\n",
      "[[8.82 0.   0.  ]\n",
      " [0.   6.14 0.  ]\n",
      " [0.   0.   2.53]\n",
      " [0.   0.   0.  ]\n",
      " [0.   0.   0.  ]]\n",
      "Матрица U:\n",
      "[[ 0.17  0.16 -0.53 -0.8  -0.16]\n",
      " [ 0.39 -0.53  0.61 -0.43  0.03]\n",
      " [-0.14 -0.82 -0.52  0.14  0.07]\n",
      " [ 0.89  0.06 -0.25  0.38 -0.06]\n",
      " [ 0.08  0.11 -0.08 -0.11  0.98]]\n",
      "Матрица V:\n",
      "[[ 0.07 -0.37 -0.93]\n",
      " [ 0.72  0.67 -0.21]\n",
      " [ 0.69 -0.65  0.31]]\n"
     ]
    }
   ],
   "source": [
    "np.set_printoptions(precision=2, suppress=True)\n",
    "A = np.array([[1, 2, 0], [0, 0, 5], [3, -4, 2], [1, 6, 5], [0, 1, 0]])\n",
    "U, s, W = np.linalg.svd(A)\n",
    "\n",
    "V = W.T\n",
    "\n",
    "D = np.zeros_like(A, dtype=float)\n",
    "D[np.diag_indices(min(A.shape))] = s\n",
    "print(f'Матрица D:\\n{D}')\n",
    "print(f'Матрица U:\\n{U}')\n",
    "print(f'Матрица V:\\n{V}')"
   ]
  },
  {
   "cell_type": "markdown",
   "metadata": {
    "colab_type": "text",
    "id": "KmO619H0ZS5P"
   },
   "source": [
    "## Литература"
   ]
  },
  {
   "cell_type": "markdown",
   "metadata": {
    "colab_type": "text",
    "id": "some8H9wZS5Q"
   },
   "source": [
    "1. Ильин В. А., Позняк Э. Г. Линейная алгебра: Учеб. для вузов. — 6-е изд. — М.: Физматлит, 2005.\n",
    "\n",
    "2. Фаддеев Д. К., Фаддеева В. Н. Вычислительные методы линейной алгебры. М.: ГИФМЛ, 1960.\n",
    "\n",
    "3. Рябушко А. П., Сборник индивидуальных заданий по высшей математике. Часть 1. Минск: Вышэйшая школа, 1990."
   ]
  }
 ],
 "metadata": {
  "colab": {
   "collapsed_sections": [],
   "name": "Lesson_6-REVISED.ipynb",
   "provenance": []
  },
  "kernelspec": {
   "display_name": "Python 3",
   "language": "python",
   "name": "python3"
  },
  "language_info": {
   "codemirror_mode": {
    "name": "ipython",
    "version": 3
   },
   "file_extension": ".py",
   "mimetype": "text/x-python",
   "name": "python",
   "nbconvert_exporter": "python",
   "pygments_lexer": "ipython3",
   "version": "3.7.3"
  }
 },
 "nbformat": 4,
 "nbformat_minor": 1
}
