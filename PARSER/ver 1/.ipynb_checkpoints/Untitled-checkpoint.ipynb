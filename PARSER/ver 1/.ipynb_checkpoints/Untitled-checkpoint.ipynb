{
 "cells": [
  {
   "cell_type": "code",
   "execution_count": 2,
   "metadata": {},
   "outputs": [
    {
     "data": {
      "text/html": [
       "<div>\n",
       "<style scoped>\n",
       "    .dataframe tbody tr th:only-of-type {\n",
       "        vertical-align: middle;\n",
       "    }\n",
       "\n",
       "    .dataframe tbody tr th {\n",
       "        vertical-align: top;\n",
       "    }\n",
       "\n",
       "    .dataframe thead th {\n",
       "        text-align: right;\n",
       "    }\n",
       "</style>\n",
       "<table border=\"1\" class=\"dataframe\">\n",
       "  <thead>\n",
       "    <tr style=\"text-align: right;\">\n",
       "      <th></th>\n",
       "      <th>ФИО</th>\n",
       "      <th>Пол</th>\n",
       "      <th>Наличие Страницы</th>\n",
       "      <th>Знание языков</th>\n",
       "      <th>Образование</th>\n",
       "      <th>Квалификация</th>\n",
       "      <th>Техническое/Гуманитарное</th>\n",
       "      <th>Ученые степени</th>\n",
       "      <th>Специальность</th>\n",
       "      <th>Название диссертации</th>\n",
       "      <th>Дата защиты</th>\n",
       "      <th>Ученые звания</th>\n",
       "      <th>Наличие прикрепленных файлов</th>\n",
       "      <th>Дата рождения</th>\n",
       "      <th>Список публикаций в СМИ</th>\n",
       "      <th>Монографии</th>\n",
       "      <th>Статьи</th>\n",
       "      <th>Тезисы и материалы конференций</th>\n",
       "      <th>Учебники и учебные пособия</th>\n",
       "      <th>Unnamed: 19</th>\n",
       "    </tr>\n",
       "  </thead>\n",
       "  <tbody>\n",
       "    <tr>\n",
       "      <th>0</th>\n",
       "      <td>Арсланов Камиль Маратович</td>\n",
       "      <td>М</td>\n",
       "      <td>+</td>\n",
       "      <td>английский(Свободное владение)</td>\n",
       "      <td>2005-2010 высшее образование: Казанский (Приво...</td>\n",
       "      <td>None</td>\n",
       "      <td>Не готово</td>\n",
       "      <td>кандидат (технические науки)</td>\n",
       "      <td>05.13.11 - Математическое и программное обесп...</td>\n",
       "      <td>\"Модели, методы и программные средства управл...</td>\n",
       "      <td>29.08.2019</td>\n",
       "      <td>NaN</td>\n",
       "      <td>NaN</td>\n",
       "      <td>NaN</td>\n",
       "      <td>NaN</td>\n",
       "      <td>NaN</td>\n",
       "      <td>NaN</td>\n",
       "      <td>NaN</td>\n",
       "      <td>NaN</td>\n",
       "      <td>NaN</td>\n",
       "    </tr>\n",
       "  </tbody>\n",
       "</table>\n",
       "</div>"
      ],
      "text/plain": [
       "                         ФИО Пол Наличие Страницы  \\\n",
       "0  Арсланов Камиль Маратович   М                +   \n",
       "\n",
       "                     Знание языков  \\\n",
       "0  английский(Свободное владение)    \n",
       "\n",
       "                                         Образование Квалификация  \\\n",
       "0  2005-2010 высшее образование: Казанский (Приво...         None   \n",
       "\n",
       "  Техническое/Гуманитарное                Ученые степени  \\\n",
       "0                Не готово  кандидат (технические науки)   \n",
       "\n",
       "                                       Специальность  \\\n",
       "0   05.13.11 - Математическое и программное обесп...   \n",
       "\n",
       "                                Название диссертации Дата защиты  \\\n",
       "0   \"Модели, методы и программные средства управл...  29.08.2019   \n",
       "\n",
       "   Ученые звания  Наличие прикрепленных файлов  Дата рождения  \\\n",
       "0            NaN                           NaN            NaN   \n",
       "\n",
       "   Список публикаций в СМИ  Монографии  Статьи  \\\n",
       "0                      NaN         NaN     NaN   \n",
       "\n",
       "   Тезисы и материалы конференций  Учебники и учебные пособия  Unnamed: 19  \n",
       "0                             NaN                         NaN          NaN  "
      ]
     },
     "execution_count": 2,
     "metadata": {},
     "output_type": "execute_result"
    }
   ],
   "source": [
    "import matplotlib.pyplot as plt\n",
    "import pandas as pd\n",
    "\n",
    "data = pd.read_csv('data.csv', delimiter='|')\n",
    "data"
   ]
  },
  {
   "cell_type": "code",
   "execution_count": 3,
   "metadata": {},
   "outputs": [],
   "source": [
    "# есть небольшие проблемы со второй частью данных"
   ]
  },
  {
   "cell_type": "code",
   "execution_count": null,
   "metadata": {},
   "outputs": [],
   "source": [
    "# также возникают проблемы (скорее всего с кодировкой) при наборах более 1 человека\n",
    "# в коде есть большинство нужных методов, остается их долатать"
   ]
  }
 ],
 "metadata": {
  "kernelspec": {
   "display_name": "Python 3",
   "language": "python",
   "name": "python3"
  },
  "language_info": {
   "codemirror_mode": {
    "name": "ipython",
    "version": 3
   },
   "file_extension": ".py",
   "mimetype": "text/x-python",
   "name": "python",
   "nbconvert_exporter": "python",
   "pygments_lexer": "ipython3",
   "version": "3.7.3"
  }
 },
 "nbformat": 4,
 "nbformat_minor": 2
}
