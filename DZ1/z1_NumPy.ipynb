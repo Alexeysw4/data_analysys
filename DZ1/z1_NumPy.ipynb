{
 "cells": [
  {
   "cell_type": "markdown",
   "metadata": {},
   "source": [
    "# Numpy"
   ]
  },
  {
   "cell_type": "markdown",
   "metadata": {},
   "source": [
    "#### 1.Создать вектор (одномерный массив) размера 100, заполненный нулями"
   ]
  },
  {
   "cell_type": "code",
   "execution_count": 2,
   "metadata": {
    "scrolled": true
   },
   "outputs": [
    {
     "name": "stdout",
     "output_type": "stream",
     "text": [
      "[0 0 0 0 0 0 0 0 0 0 0 0 0 0 0 0 0 0 0 0 0 0 0 0 0 0 0 0 0 0 0 0 0 0 0 0 0\n",
      " 0 0 0 0 0 0 0 0 0 0 0 0 0 0 0 0 0 0 0 0 0 0 0 0 0 0 0 0 0 0 0 0 0 0 0 0 0\n",
      " 0 0 0 0 0 0 0 0 0 0 0 0 0 0 0 0 0 0 0 0 0 0 0 0 0 0]\n"
     ]
    }
   ],
   "source": [
    "import numpy as np\n",
    "\n",
    "arr = np.zeros(100, int)\n",
    "print(arr)"
   ]
  },
  {
   "cell_type": "markdown",
   "metadata": {},
   "source": [
    "#### 2.Создать вектор размера 100, заполненный единицами"
   ]
  },
  {
   "cell_type": "code",
   "execution_count": 247,
   "metadata": {},
   "outputs": [
    {
     "name": "stdout",
     "output_type": "stream",
     "text": [
      "[1 1 1 1 1 1 1 1 1 1 1 1 1 1 1 1 1 1 1 1 1 1 1 1 1 1 1 1 1 1 1 1 1 1 1 1 1\n",
      " 1 1 1 1 1 1 1 1 1 1 1 1 1 1 1 1 1 1 1 1 1 1 1 1 1 1 1 1 1 1 1 1 1 1 1 1 1\n",
      " 1 1 1 1 1 1 1 1 1 1 1 1 1 1 1 1 1 1 1 1 1 1 1 1 1 1]\n"
     ]
    }
   ],
   "source": [
    "arr = np.ones(100, int)\n",
    "print(arr)"
   ]
  },
  {
   "cell_type": "markdown",
   "metadata": {},
   "source": [
    "#### 3.Создать вектор размера 100, заполненный числом 3"
   ]
  },
  {
   "cell_type": "code",
   "execution_count": 248,
   "metadata": {},
   "outputs": [
    {
     "name": "stdout",
     "output_type": "stream",
     "text": [
      "[3 3 3 3 3 3 3 3 3 3 3 3 3 3 3 3 3 3 3 3 3 3 3 3 3 3 3 3 3 3 3 3 3 3 3 3 3\n",
      " 3 3 3 3 3 3 3 3 3 3 3 3 3 3 3 3 3 3 3 3 3 3 3 3 3 3 3 3 3 3 3 3 3 3 3 3 3\n",
      " 3 3 3 3 3 3 3 3 3 3 3 3 3 3 3 3 3 3 3 3 3 3 3 3 3 3]\n"
     ]
    }
   ],
   "source": [
    "arr = np.full(100, 3)\n",
    "print(arr)"
   ]
  },
  {
   "cell_type": "markdown",
   "metadata": {},
   "source": [
    "#### 4. Как получить документацию о функции numpy.add из командной строки?"
   ]
  },
  {
   "cell_type": "code",
   "execution_count": 255,
   "metadata": {},
   "outputs": [
    {
     "name": "stdout",
     "output_type": "stream",
     "text": [
      "add(x1, x2, /, out=None, *, where=True, casting='same_kind', order='K', dtype=None, subok=True[, signature, extobj])\n",
      "\n",
      "Add arguments element-wise.\n",
      "\n",
      "Parameters\n",
      "----------\n",
      "x1, x2 : array_like\n",
      "    The arrays to be added.  If ``x1.shape != x2.shape``, they must be\n",
      "    broadcastable to a common shape (which may be the shape of one or\n",
      "    the other).\n",
      "out : ndarray, None, or tuple of ndarray and None, optional\n",
      "    A location into which the result is stored. If provided, it must have\n",
      "    a shape that the inputs broadcast to. If not provided or `None`,\n",
      "    a freshly-allocated array is returned. A tuple (possible only as a\n",
      "    keyword argument) must have length equal to the number of outputs.\n",
      "where : array_like, optional\n",
      "    Values of True indicate to calculate the ufunc at that position, values\n",
      "    of False indicate to leave the value in the output alone.\n",
      "**kwargs\n",
      "    For other keyword-only arguments, see the\n",
      "    :ref:`ufunc docs <ufuncs.kwargs>`.\n",
      "\n",
      "Returns\n",
      "-------\n",
      "add : ndarray or scalar\n",
      "    The sum of `x1` and `x2`, element-wise.\n",
      "    This is a scalar if both `x1` and `x2` are scalars.\n",
      "\n",
      "Notes\n",
      "-----\n",
      "Equivalent to `x1` + `x2` in terms of array broadcasting.\n",
      "\n",
      "Examples\n",
      "--------\n",
      ">>> np.add(1.0, 4.0)\n",
      "5.0\n",
      ">>> x1 = np.arange(9.0).reshape((3, 3))\n",
      ">>> x2 = np.arange(3.0)\n",
      ">>> np.add(x1, x2)\n",
      "array([[  0.,   2.,   4.],\n",
      "       [  3.,   5.,   7.],\n",
      "       [  6.,   8.,  10.]])\n",
      "None\n"
     ]
    }
   ],
   "source": [
    "'''в консоль сначала прописывается \"py\", а затем:'''\n",
    "import numpy\n",
    "print(numpy.info(numpy.add))"
   ]
  },
  {
   "cell_type": "markdown",
   "metadata": {},
   "source": [
    "#### 5. Поменять 2 строки в матрице"
   ]
  },
  {
   "cell_type": "code",
   "execution_count": null,
   "metadata": {},
   "outputs": [],
   "source": [
    "arr = np.arange(4).reshape(2,2)\n",
    "print(arr)\n",
    "print()\n",
    "arr[[0,1]] = arr[[1,0]]\n",
    "print(arr)"
   ]
  },
  {
   "cell_type": "markdown",
   "metadata": {},
   "source": [
    "#### 6. Создать вектор со значениями от 10 до 100"
   ]
  },
  {
   "cell_type": "code",
   "execution_count": null,
   "metadata": {},
   "outputs": [],
   "source": [
    "arr = np.arange(10, 100)\n",
    "print(arr)"
   ]
  },
  {
   "cell_type": "markdown",
   "metadata": {},
   "source": [
    "#### 7. Развернуть вектор (первый становится последним)"
   ]
  },
  {
   "cell_type": "code",
   "execution_count": null,
   "metadata": {},
   "outputs": [],
   "source": [
    "arr = np.arange(10, 100)\n",
    "print(arr[::-1])"
   ]
  },
  {
   "cell_type": "markdown",
   "metadata": {},
   "source": [
    "#### 8. Создать матрицу (двумерный массив) 4x4 со значениями от 0 до 16"
   ]
  },
  {
   "cell_type": "code",
   "execution_count": null,
   "metadata": {},
   "outputs": [],
   "source": [
    "arr = np.arange(16).reshape(4,4)\n",
    "print(arr)"
   ]
  },
  {
   "cell_type": "markdown",
   "metadata": {},
   "source": [
    "#### 9.  Дан вектор [1, 2, 3, 4, 5], построить новый вектор с тремя нулями между каждым значением"
   ]
  },
  {
   "cell_type": "code",
   "execution_count": 3,
   "metadata": {},
   "outputs": [
    {
     "name": "stdout",
     "output_type": "stream",
     "text": [
      "[1 0 0 0 2 0 0 0 3 0 0 0 4 0 0 0 5]\n"
     ]
    }
   ],
   "source": [
    "arr = np.array([1,2,3,4,5])\n",
    "step = 4\n",
    "arr2 = np.zeros(len(arr) + (len(arr)-1)*(step - 1), int)\n",
    "arr2[::step] = arr\n",
    "print(arr2)"
   ]
  },
  {
   "cell_type": "markdown",
   "metadata": {},
   "source": [
    "#### 10. Создать 3x3 единичную матрицу"
   ]
  },
  {
   "cell_type": "code",
   "execution_count": 190,
   "metadata": {},
   "outputs": [
    {
     "name": "stdout",
     "output_type": "stream",
     "text": [
      "[[1 0 0]\n",
      " [0 1 0]\n",
      " [0 0 1]]\n"
     ]
    }
   ],
   "source": [
    "arr = np.eye(3, dtype=np.int32)\n",
    "print(arr)"
   ]
  },
  {
   "cell_type": "markdown",
   "metadata": {},
   "source": [
    "#### 11. Создать массив 3x3x3 со случайными значениями"
   ]
  },
  {
   "cell_type": "code",
   "execution_count": 191,
   "metadata": {},
   "outputs": [
    {
     "name": "stdout",
     "output_type": "stream",
     "text": [
      "[[[49 13 65]\n",
      "  [31 23 91]\n",
      "  [83 36 31]]\n",
      "\n",
      " [[18 12 77]\n",
      "  [15 59 12]\n",
      "  [13 52 29]]\n",
      "\n",
      " [[70 93 68]\n",
      "  [50 27 75]\n",
      "  [66 57 76]]]\n"
     ]
    }
   ],
   "source": [
    "arr = np.random.randint(0, 100, (3, 3, 3))\n",
    "print(arr)"
   ]
  },
  {
   "cell_type": "markdown",
   "metadata": {},
   "source": [
    "#### 12. Создать массив 10x10 со случайными значениями, найти минимум и максимум"
   ]
  },
  {
   "cell_type": "code",
   "execution_count": 193,
   "metadata": {
    "scrolled": true
   },
   "outputs": [
    {
     "name": "stdout",
     "output_type": "stream",
     "text": [
      "Массив:\n",
      " [[84 72 19 20 90 17 23 56 60 13]\n",
      " [53 73 90 29 68 85 77 65 16 60]\n",
      " [98 65 12 23 97 49 28 31 64 86]\n",
      " [77 21 50 33 43 69  1 86 57 50]\n",
      " [95 52 18 75 80 51  5 88 72 39]\n",
      " [14 96 99  1 42 95 97 34 42 57]\n",
      " [61 96 19 63 93 75 72  5 90 38]\n",
      " [36 66 37 94 11  1 50  0 85 60]\n",
      " [77 33 74 63 42 24 18 81 24 17]\n",
      " [42 55 54 89 73 18 68 34 24 25]]\n",
      "\n",
      "Минимум: 0 \n",
      "Максимум: 99\n"
     ]
    }
   ],
   "source": [
    "arr = np.random.randint(0, 100, (10, 10))\n",
    "print('Массив:\\n', arr)\n",
    "min = arr.min()\n",
    "max = arr.max()\n",
    "print('\\nМинимум:', min, '\\nМаксимум:', max)"
   ]
  },
  {
   "cell_type": "markdown",
   "metadata": {},
   "source": [
    "#### 13. Создать случайный вектор размера 30 и найти среднее значение всех элементов"
   ]
  },
  {
   "cell_type": "code",
   "execution_count": 249,
   "metadata": {
    "scrolled": true
   },
   "outputs": [
    {
     "name": "stdout",
     "output_type": "stream",
     "text": [
      "[3 6 8 6 6 3 8 1 3 0 4 3 9 9 6 8 0 7 1 1 8 0 2 7 5 8 0 0 4 6]\n",
      "\n",
      "Среднее: 4.4\n"
     ]
    }
   ],
   "source": [
    "arr = np.random.randint(0, 10, 30)\n",
    "print(arr)\n",
    "mean = arr.mean()\n",
    "print('\\nСреднее:', mean)"
   ]
  },
  {
   "cell_type": "markdown",
   "metadata": {},
   "source": [
    "#### 14. Создать матрицу с 0 внутри, и 1 на границах"
   ]
  },
  {
   "cell_type": "code",
   "execution_count": null,
   "metadata": {},
   "outputs": [],
   "source": [
    "arr = np.ones((5, 5))\n",
    "arr[1:len(arr) - 1, 1:len(arr) - 1] = 0\n",
    "print(arr)"
   ]
  },
  {
   "cell_type": "markdown",
   "metadata": {},
   "source": [
    "#### 15. Удивите меня в этом задании, покажите какое нибудь класное преобразование в numpy (не идет в зачет)"
   ]
  },
  {
   "cell_type": "code",
   "execution_count": 29,
   "metadata": {},
   "outputs": [
    {
     "name": "stdout",
     "output_type": "stream",
     "text": [
      "[[1. 1. 1. 1. 1. 1. 1. 1. 1. 1. 1. 1. 1. 1. 1. 1. 1. 1. 1. 1. 1. 1. 1.]\n",
      " [1. 0. 0. 0. 0. 0. 0. 0. 0. 0. 0. 0. 0. 0. 0. 0. 0. 0. 0. 0. 0. 0. 1.]\n",
      " [1. 0. 1. 1. 1. 1. 1. 1. 1. 1. 1. 1. 1. 1. 1. 1. 1. 1. 1. 1. 1. 0. 1.]\n",
      " [1. 0. 1. 0. 0. 0. 0. 0. 0. 0. 0. 0. 0. 0. 0. 0. 0. 0. 0. 0. 1. 0. 1.]\n",
      " [1. 0. 1. 0. 1. 1. 1. 1. 1. 1. 1. 1. 1. 1. 1. 1. 1. 1. 1. 0. 1. 0. 1.]\n",
      " [1. 0. 1. 0. 1. 0. 0. 0. 0. 0. 0. 0. 0. 0. 0. 0. 0. 0. 1. 0. 1. 0. 1.]\n",
      " [1. 0. 1. 0. 1. 0. 1. 1. 1. 1. 1. 1. 1. 1. 1. 1. 1. 0. 1. 0. 1. 0. 1.]\n",
      " [1. 0. 1. 0. 1. 0. 1. 0. 0. 0. 0. 0. 0. 0. 0. 0. 1. 0. 1. 0. 1. 0. 1.]\n",
      " [1. 0. 1. 0. 1. 0. 1. 0. 1. 1. 1. 1. 1. 1. 1. 0. 1. 0. 1. 0. 1. 0. 1.]\n",
      " [1. 0. 1. 0. 1. 0. 1. 0. 1. 0. 0. 0. 0. 0. 1. 0. 1. 0. 1. 0. 1. 0. 1.]\n",
      " [1. 0. 1. 0. 1. 0. 1. 0. 1. 0. 1. 1. 1. 0. 1. 0. 1. 0. 1. 0. 1. 0. 1.]\n",
      " [1. 0. 1. 0. 1. 0. 1. 0. 1. 0. 1. 0. 1. 0. 1. 0. 1. 0. 1. 0. 1. 0. 1.]\n",
      " [1. 0. 1. 0. 1. 0. 1. 0. 1. 0. 1. 1. 1. 0. 1. 0. 1. 0. 1. 0. 1. 0. 1.]\n",
      " [1. 0. 1. 0. 1. 0. 1. 0. 1. 0. 0. 0. 0. 0. 1. 0. 1. 0. 1. 0. 1. 0. 1.]\n",
      " [1. 0. 1. 0. 1. 0. 1. 0. 1. 1. 1. 1. 1. 1. 1. 0. 1. 0. 1. 0. 1. 0. 1.]\n",
      " [1. 0. 1. 0. 1. 0. 1. 0. 0. 0. 0. 0. 0. 0. 0. 0. 1. 0. 1. 0. 1. 0. 1.]\n",
      " [1. 0. 1. 0. 1. 0. 1. 1. 1. 1. 1. 1. 1. 1. 1. 1. 1. 0. 1. 0. 1. 0. 1.]\n",
      " [1. 0. 1. 0. 1. 0. 0. 0. 0. 0. 0. 0. 0. 0. 0. 0. 0. 0. 1. 0. 1. 0. 1.]\n",
      " [1. 0. 1. 0. 1. 1. 1. 1. 1. 1. 1. 1. 1. 1. 1. 1. 1. 1. 1. 0. 1. 0. 1.]\n",
      " [1. 0. 1. 0. 0. 0. 0. 0. 0. 0. 0. 0. 0. 0. 0. 0. 0. 0. 0. 0. 1. 0. 1.]\n",
      " [1. 0. 1. 1. 1. 1. 1. 1. 1. 1. 1. 1. 1. 1. 1. 1. 1. 1. 1. 1. 1. 0. 1.]\n",
      " [1. 0. 0. 0. 0. 0. 0. 0. 0. 0. 0. 0. 0. 0. 0. 0. 0. 0. 0. 0. 0. 0. 1.]\n",
      " [1. 1. 1. 1. 1. 1. 1. 1. 1. 1. 1. 1. 1. 1. 1. 1. 1. 1. 1. 1. 1. 1. 1.]]\n"
     ]
    }
   ],
   "source": [
    "arr = np.ones((23, 23))\n",
    "n = 1\n",
    "while n < 100:\n",
    "    if (n % 2 == 1 ):\n",
    "        arr[n:-n, n:-n] = 0\n",
    "    if (n % 2 == 0 ):\n",
    "        arr[n:-n, n:-n] = 1\n",
    "    n += 1\n",
    "print(arr)"
   ]
  },
  {
   "cell_type": "markdown",
   "metadata": {},
   "source": [
    "#### 16. Создать 5x5 матрицу с 1,2,2,4 под диагональю"
   ]
  },
  {
   "cell_type": "code",
   "execution_count": 251,
   "metadata": {},
   "outputs": [
    {
     "name": "stdout",
     "output_type": "stream",
     "text": [
      "[[0 0 0 0 0]\n",
      " [1 0 0 0 0]\n",
      " [0 2 0 0 0]\n",
      " [0 0 2 0 0]\n",
      " [0 0 0 4 0]] \n",
      "\n",
      "Или\n",
      "\n",
      "[[0 1 0 0 0]\n",
      " [0 0 2 0 0]\n",
      " [0 0 0 2 0]\n",
      " [0 0 0 0 4]\n",
      " [0 0 0 0 0]]\n"
     ]
    }
   ],
   "source": [
    "arr = [1, 2, 2, 4]\n",
    "print(np.diag(arr, k =- 1), '\\n\\nИли\\n')\n",
    "print(np.diag(arr, k =+ 1))"
   ]
  },
  {
   "cell_type": "markdown",
   "metadata": {},
   "source": [
    "#### 17. Создать 8x8 матрицу и заполнить её в шахматном порядке"
   ]
  },
  {
   "cell_type": "code",
   "execution_count": 263,
   "metadata": {},
   "outputs": [
    {
     "name": "stdout",
     "output_type": "stream",
     "text": [
      "[[1 0 1 0 1 0 1 0]\n",
      " [0 1 0 1 0 1 0 1]\n",
      " [1 0 1 0 1 0 1 0]\n",
      " [0 1 0 1 0 1 0 1]\n",
      " [1 0 1 0 1 0 1 0]\n",
      " [0 1 0 1 0 1 0 1]\n",
      " [1 0 1 0 1 0 1 0]\n",
      " [0 1 0 1 0 1 0 1]]\n"
     ]
    }
   ],
   "source": [
    "arr = np.ones((8,8), dtype=int)\n",
    "arr[1::2, ::2] = 0\n",
    "arr[::2, 1::2] = 0\n",
    "print(arr)"
   ]
  },
  {
   "cell_type": "markdown",
   "metadata": {},
   "source": [
    "#### 18. Дан массив размерности (6,7,8). Каков индекс (x,y,z) сотого элемента?"
   ]
  },
  {
   "cell_type": "code",
   "execution_count": 264,
   "metadata": {},
   "outputs": [
    {
     "name": "stdout",
     "output_type": "stream",
     "text": [
      "(1, 5, 4)\n"
     ]
    }
   ],
   "source": [
    "print(np.unravel_index(100, (6,7,8)))"
   ]
  },
  {
   "cell_type": "markdown",
   "metadata": {},
   "source": [
    "#### 19. Создать 8x8 матрицу и заполнить её в шахматном порядке, используя функцию tile"
   ]
  },
  {
   "cell_type": "code",
   "execution_count": 267,
   "metadata": {},
   "outputs": [
    {
     "name": "stdout",
     "output_type": "stream",
     "text": [
      "[[1 0 1 0 1 0 1 0]\n",
      " [0 1 0 1 0 1 0 1]\n",
      " [1 0 1 0 1 0 1 0]\n",
      " [0 1 0 1 0 1 0 1]\n",
      " [1 0 1 0 1 0 1 0]\n",
      " [0 1 0 1 0 1 0 1]\n",
      " [1 0 1 0 1 0 1 0]\n",
      " [0 1 0 1 0 1 0 1]]\n"
     ]
    }
   ],
   "source": [
    "print(np.tile(np.array([[1,0],[0,1]]), (4,4)))"
   ]
  },
  {
   "cell_type": "markdown",
   "metadata": {},
   "source": [
    "#### 20. Перемножить матрицы 5x3 и 3x2"
   ]
  },
  {
   "cell_type": "code",
   "execution_count": 279,
   "metadata": {},
   "outputs": [
    {
     "name": "stdout",
     "output_type": "stream",
     "text": [
      "Матрица 5x3:\n",
      "\n",
      " [[65 95 89]\n",
      " [20 91 13]\n",
      " [76 38 72]\n",
      " [45 68 14]\n",
      " [21 60 25]]\n",
      "\n",
      "Матрица 3x2:\n",
      "\n",
      " [[38 77]\n",
      " [ 6 27]\n",
      " [75 28]]\n",
      "\n",
      "Перемноженная матрица:\n",
      "\n",
      " [[ 9715 10062]\n",
      " [ 2281  4361]\n",
      " [ 8516  8894]\n",
      " [ 3168  5693]\n",
      " [ 3033  3937]]\n"
     ]
    }
   ],
   "source": [
    "arr1 = np.random.randint(0, 100, (5, 3))\n",
    "print('Матрица 5x3:\\n\\n', arr1)\n",
    "arr2 = np.random.randint(0, 100, (3, 2))\n",
    "print('\\nМатрица 3x2:\\n\\n', arr2)\n",
    "print('\\nПеремноженная матрица:\\n\\n', np.dot(arr1, arr2))"
   ]
  },
  {
   "cell_type": "markdown",
   "metadata": {},
   "source": [
    "#### 21. Дан массив, поменять знак у элементов, значения которых между 3 и 8"
   ]
  },
  {
   "cell_type": "code",
   "execution_count": 289,
   "metadata": {},
   "outputs": [
    {
     "name": "stdout",
     "output_type": "stream",
     "text": [
      "[6 3 6 2 4 5 5 0 8 9]\n",
      "[-6  3 -6  2 -4 -5 -5  0  8  9]\n"
     ]
    }
   ],
   "source": [
    "arr = np.random.randint(0, 10, 10)\n",
    "print(arr)\n",
    "arr[(3 < arr) & (arr < 8)] *= -1\n",
    "print(arr)"
   ]
  },
  {
   "cell_type": "markdown",
   "metadata": {},
   "source": [
    "#### 23. Создать 5x5 матрицу со значениями в строках от 0 до 4"
   ]
  },
  {
   "cell_type": "code",
   "execution_count": 292,
   "metadata": {},
   "outputs": [
    {
     "name": "stdout",
     "output_type": "stream",
     "text": [
      "[[0 1 2 3 4]\n",
      " [0 1 2 3 4]\n",
      " [0 1 2 3 4]\n",
      " [0 1 2 3 4]\n",
      " [0 1 2 3 4]]\n"
     ]
    }
   ],
   "source": [
    "arr = np.zeros((5,5), int)\n",
    "arr += np.arange(5)\n",
    "print(arr)"
   ]
  },
  {
   "cell_type": "markdown",
   "metadata": {},
   "source": [
    "#### 24. Есть генератор, сделать с его помощью массив"
   ]
  },
  {
   "cell_type": "code",
   "execution_count": 170,
   "metadata": {},
   "outputs": [
    {
     "name": "stdout",
     "output_type": "stream",
     "text": [
      "[[0 1]\n",
      " [2 3]]\n"
     ]
    }
   ],
   "source": [
    "def generate():\n",
    "    for x in xrange(5):\n",
    "        yield x\n",
    "        arr = np.fromiter(generate(), dtype=float, count=-1)\n",
    "        \n",
    "print(arr)"
   ]
  },
  {
   "cell_type": "markdown",
   "metadata": {},
   "source": [
    "#### 25. Создать вектор размера 10 со значениями от 0 до 1, не включая ни то, ни другое"
   ]
  },
  {
   "cell_type": "code",
   "execution_count": 294,
   "metadata": {},
   "outputs": [
    {
     "name": "stdout",
     "output_type": "stream",
     "text": [
      "[0.09090909 0.18181818 0.27272727 0.36363636 0.45454545 0.54545455\n",
      " 0.63636364 0.72727273 0.81818182 0.90909091]\n"
     ]
    }
   ],
   "source": [
    "print(np.linspace(0,1,12)[1:-1])"
   ]
  },
  {
   "cell_type": "markdown",
   "metadata": {},
   "source": [
    "#### 26. Отсортировать вектор"
   ]
  },
  {
   "cell_type": "code",
   "execution_count": 297,
   "metadata": {},
   "outputs": [
    {
     "name": "stdout",
     "output_type": "stream",
     "text": [
      "Изначальный:\n",
      " [8 5 7 6 0 9 8 7 9 8]\n",
      "\n",
      "Отсортированный:\n",
      " [0 5 6 7 7 8 8 8 9 9]\n"
     ]
    }
   ],
   "source": [
    "arr = np.random.randint(0, 10, 10)\n",
    "print('Изначальный:\\n',arr)\n",
    "arr.sort()\n",
    "print('\\nОтсортированный:\\n', arr)"
   ]
  },
  {
   "cell_type": "markdown",
   "metadata": {},
   "source": [
    "#### 27. Проверить, одинаковы ли 2 numpy массива"
   ]
  },
  {
   "cell_type": "code",
   "execution_count": 298,
   "metadata": {},
   "outputs": [
    {
     "name": "stdout",
     "output_type": "stream",
     "text": [
      "[4 2 9 1 5 3 7 2 9 3]\n",
      "[3 9 3 2 6 1 2 2 4 9]\n",
      "\n",
      " False \n",
      "\n",
      "[0 1 2]\n",
      "[0 1 2]\n",
      "\n",
      " True \n",
      "\n"
     ]
    }
   ],
   "source": [
    "arr1 = np.random.randint(0, 10, 10)\n",
    "arr2 = np.random.randint(0, 10, 10)\n",
    "\n",
    "print(arr1)\n",
    "print(arr2)\n",
    "\n",
    "equal1 = np.allclose(arr1,arr2)\n",
    "print('\\n', equal1, '\\n')\n",
    "\n",
    "arr3 = np.arange(3)\n",
    "arr4 = np.arange(3)\n",
    "\n",
    "print(arr3)\n",
    "print(arr4)\n",
    "\n",
    "equal2 = np.allclose(arr3,arr3)\n",
    "print('\\n', equal2, '\\n')"
   ]
  },
  {
   "cell_type": "markdown",
   "metadata": {},
   "source": [
    "#### 28. Сделать массив неизменяемым"
   ]
  },
  {
   "cell_type": "code",
   "execution_count": 299,
   "metadata": {},
   "outputs": [
    {
     "ename": "ValueError",
     "evalue": "assignment destination is read-only",
     "output_type": "error",
     "traceback": [
      "\u001b[1;31m---------------------------------------------------------------------------\u001b[0m",
      "\u001b[1;31mValueError\u001b[0m                                Traceback (most recent call last)",
      "\u001b[1;32m<ipython-input-299-177696e17aba>\u001b[0m in \u001b[0;36m<module>\u001b[1;34m\u001b[0m\n\u001b[0;32m      1\u001b[0m \u001b[0marr\u001b[0m \u001b[1;33m=\u001b[0m \u001b[0mnp\u001b[0m\u001b[1;33m.\u001b[0m\u001b[0mrandom\u001b[0m\u001b[1;33m.\u001b[0m\u001b[0mrandint\u001b[0m\u001b[1;33m(\u001b[0m\u001b[1;36m0\u001b[0m\u001b[1;33m,\u001b[0m \u001b[1;36m10\u001b[0m\u001b[1;33m,\u001b[0m \u001b[1;36m10\u001b[0m\u001b[1;33m)\u001b[0m\u001b[1;33m\u001b[0m\u001b[1;33m\u001b[0m\u001b[0m\n\u001b[0;32m      2\u001b[0m \u001b[0marr\u001b[0m\u001b[1;33m.\u001b[0m\u001b[0mflags\u001b[0m\u001b[1;33m.\u001b[0m\u001b[0mwriteable\u001b[0m \u001b[1;33m=\u001b[0m \u001b[1;32mFalse\u001b[0m\u001b[1;33m\u001b[0m\u001b[1;33m\u001b[0m\u001b[0m\n\u001b[1;32m----> 3\u001b[1;33m \u001b[0marr\u001b[0m\u001b[1;33m[\u001b[0m\u001b[1;36m0\u001b[0m\u001b[1;33m]\u001b[0m \u001b[1;33m=\u001b[0m \u001b[1;36m1\u001b[0m\u001b[1;33m\u001b[0m\u001b[1;33m\u001b[0m\u001b[0m\n\u001b[0m\u001b[0;32m      4\u001b[0m \u001b[1;33m\u001b[0m\u001b[0m\n\u001b[0;32m      5\u001b[0m \u001b[1;34m'''выдает ошибку'''\u001b[0m\u001b[1;33m\u001b[0m\u001b[1;33m\u001b[0m\u001b[0m\n",
      "\u001b[1;31mValueError\u001b[0m: assignment destination is read-only"
     ]
    }
   ],
   "source": [
    "arr = np.random.randint(0, 10, 10)\n",
    "arr.flags.writeable = False\n",
    "arr[0] = 1\n",
    "\n",
    "'''выдает ошибку'''"
   ]
  },
  {
   "cell_type": "markdown",
   "metadata": {},
   "source": [
    "#### 29. Найти n наибольших значений в массиве"
   ]
  },
  {
   "cell_type": "code",
   "execution_count": 93,
   "metadata": {
    "scrolled": true
   },
   "outputs": [
    {
     "name": "stdout",
     "output_type": "stream",
     "text": [
      "Введите размерность массива5\n",
      "Введите размерность n (число должно быть меньше чем размер массива)2\n",
      "\n",
      "Массив: [65 34 51 64 17]\n",
      "\n",
      "n наибольших чисел: [65 64]\n"
     ]
    }
   ],
   "source": [
    "size = int(input('Введите размерность массива'))\n",
    "n = int(input('Введите размерность n (число должно быть меньше чем размер массива)'))\n",
    "arr = np.random.randint(0, 100, size)\n",
    "print('\\nМассив:', arr)\n",
    "print ('\\nn наибольших чисел:', arr[np.argpartition(-arr,n)[:n]])"
   ]
  },
  {
   "cell_type": "markdown",
   "metadata": {},
   "source": [
    "#### 30. Заменить максимальный элемент на ноль"
   ]
  },
  {
   "cell_type": "code",
   "execution_count": 304,
   "metadata": {
    "scrolled": true
   },
   "outputs": [
    {
     "name": "stdout",
     "output_type": "stream",
     "text": [
      "Начальный массив:\n",
      " [11 50 25 67 50 83 53 96 33 48]\n",
      "\n",
      "Массив с заменой:\n",
      " [11 50 25 67 50 83 53  0 33 48]\n"
     ]
    }
   ],
   "source": [
    "arr = np.random.randint(0, 100, 10)\n",
    "print('Начальный массив:\\n', arr)\n",
    "arr[arr.argmax()] = 0\n",
    "print('\\nМассив с заменой:\\n', arr)"
   ]
  },
  {
   "cell_type": "markdown",
   "metadata": {},
   "source": [
    "#### 31. Создать структурированный массив с координатами x, y на сетке в квадрате [0,1]x[0,1]"
   ]
  },
  {
   "cell_type": "code",
   "execution_count": 92,
   "metadata": {},
   "outputs": [
    {
     "name": "stdout",
     "output_type": "stream",
     "text": [
      "[[(0, 0) (0, 0) (0, 0) (0, 0) (0, 0) (0, 0) (0, 0) (0, 0) (0, 0) (1, 0)]\n",
      " [(0, 0) (0, 0) (0, 0) (0, 0) (0, 0) (0, 0) (0, 0) (0, 0) (0, 0) (1, 0)]\n",
      " [(0, 0) (0, 0) (0, 0) (0, 0) (0, 0) (0, 0) (0, 0) (0, 0) (0, 0) (1, 0)]\n",
      " [(0, 0) (0, 0) (0, 0) (0, 0) (0, 0) (0, 0) (0, 0) (0, 0) (0, 0) (1, 0)]\n",
      " [(0, 0) (0, 0) (0, 0) (0, 0) (0, 0) (0, 0) (0, 0) (0, 0) (0, 0) (1, 0)]\n",
      " [(0, 0) (0, 0) (0, 0) (0, 0) (0, 0) (0, 0) (0, 0) (0, 0) (0, 0) (1, 0)]\n",
      " [(0, 0) (0, 0) (0, 0) (0, 0) (0, 0) (0, 0) (0, 0) (0, 0) (0, 0) (1, 0)]\n",
      " [(0, 0) (0, 0) (0, 0) (0, 0) (0, 0) (0, 0) (0, 0) (0, 0) (0, 0) (1, 0)]\n",
      " [(0, 0) (0, 0) (0, 0) (0, 0) (0, 0) (0, 0) (0, 0) (0, 0) (0, 0) (1, 0)]\n",
      " [(0, 1) (0, 1) (0, 1) (0, 1) (0, 1) (0, 1) (0, 1) (0, 1) (0, 1) (1, 1)]]\n"
     ]
    }
   ],
   "source": [
    "arr = np.zeros((10, 10), [('x', int),('y', int)])\n",
    "arr['x'], arr['y'] = np.meshgrid(np.linspace(0,1,10), np.linspace(0,1,10))\n",
    "print(Z)"
   ]
  },
  {
   "cell_type": "markdown",
   "metadata": {},
   "source": [
    "#### 32. Из двух массивов сделать матрицу Коши C (Cij = 1/(xi - yj))"
   ]
  },
  {
   "cell_type": "code",
   "execution_count": 94,
   "metadata": {},
   "outputs": [
    {
     "name": "stdout",
     "output_type": "stream",
     "text": [
      "33961.93294480225\n"
     ]
    }
   ],
   "source": [
    "x = np.arange(10)\n",
    "y = x + 0.5\n",
    "c = 1.0 / np.subtract.outer(x, y)\n",
    "print(np.linalg.det(c))"
   ]
  },
  {
   "cell_type": "markdown",
   "metadata": {},
   "source": [
    "#### 33. Найти минимальное и максимальное значение, принимаемое каждым числовым типом numpy"
   ]
  },
  {
   "cell_type": "code",
   "execution_count": 14,
   "metadata": {},
   "outputs": [
    {
     "name": "stdout",
     "output_type": "stream",
     "text": [
      "Целые:\n",
      "\n",
      "-128\n",
      "127\n",
      "-2147483648\n",
      "2147483647\n",
      "-9223372036854775808\n",
      "9223372036854775807\n",
      "\n",
      "С плавающей точкой:\n",
      "\n",
      "-3.4028235e+38\n",
      "3.4028235e+38\n",
      "1.1920929e-07\n",
      "-1.7976931348623157e+308\n",
      "1.7976931348623157e+308\n",
      "2.220446049250313e-16\n"
     ]
    }
   ],
   "source": [
    "print('Целые:\\n')\n",
    "for dtype in [np.int8, np.int32, np.int64]:\n",
    "   print(np.iinfo(dtype).min)\n",
    "   print(np.iinfo(dtype).max)\n",
    "print('\\nС плавающей точкой:\\n')\n",
    "for dtype in [np.float32, np.float64]:\n",
    "   print(np.finfo(dtype).min)\n",
    "   print(np.finfo(dtype).max)\n",
    "   print(np.finfo(dtype).eps)"
   ]
  },
  {
   "cell_type": "markdown",
   "metadata": {},
   "source": [
    "#### 34. Напечатать все значения в массиве"
   ]
  },
  {
   "cell_type": "code",
   "execution_count": 20,
   "metadata": {},
   "outputs": [
    {
     "name": "stdout",
     "output_type": "stream",
     "text": [
      "5\n",
      "1\n",
      "5\n",
      "9\n",
      "4\n",
      "9\n",
      "4\n",
      "1\n",
      "8\n",
      "0\n"
     ]
    }
   ],
   "source": [
    "arr = np.random.randint(0, 10, 10)\n",
    "for x in arr:\n",
    "    print(arr[x])"
   ]
  },
  {
   "cell_type": "markdown",
   "metadata": {},
   "source": [
    "#### 35. Найти ближайшее к заданному значению число в заданном массиве"
   ]
  },
  {
   "cell_type": "code",
   "execution_count": 95,
   "metadata": {
    "scrolled": true
   },
   "outputs": [
    {
     "name": "stdout",
     "output_type": "stream",
     "text": [
      "Массив:\n",
      " [ 0  1  2  3  4  5  6  7  8  9 10 11 12 13 14 15 16 17 18 19 20 21 22 23\n",
      " 24 25 26 27 28 29 30 31 32 33 34 35 36 37 38 39 40 41 42 43 44 45 46 47\n",
      " 48 49 50 51 52 53 54 55 56 57 58 59 60 61 62 63 64 65 66 67 68 69 70 71\n",
      " 72 73 74 75 76 77 78 79 80 81 82 83 84 85 86 87 88 89 90 91 92 93 94 95\n",
      " 96 97 98 99]\n",
      "Рандомное число:  57.56421667352124\n",
      "Ближайщее число:  58\n"
     ]
    }
   ],
   "source": [
    "arr = np.arange(100)\n",
    "print('Массив:\\n', arr)\n",
    "v = np.random.uniform(0,100)\n",
    "print('Рандомное число: ', v)\n",
    "index = (np.abs(arr-v)).argmin()\n",
    "print('Ближайщее число: ', arr[index])"
   ]
  },
  {
   "cell_type": "markdown",
   "metadata": {},
   "source": [
    "#### 36. Преобразовать массив из float в int"
   ]
  },
  {
   "cell_type": "code",
   "execution_count": 96,
   "metadata": {},
   "outputs": [
    {
     "name": "stdout",
     "output_type": "stream",
     "text": [
      "[1. 1. 1. 1. 1. 1. 1. 1. 1. 1.]\n",
      "[1 1 1 1 1 1 1 1 1 1]\n"
     ]
    }
   ],
   "source": [
    "arr = np.ones(10)\n",
    "print(arr)\n",
    "arr = arr.astype(np.int)\n",
    "print(arr)"
   ]
  },
  {
   "cell_type": "markdown",
   "metadata": {},
   "source": [
    "#### 37. Каков эквивалент функции enumerate для numpy массивов?"
   ]
  },
  {
   "cell_type": "code",
   "execution_count": 157,
   "metadata": {},
   "outputs": [
    {
     "name": "stdout",
     "output_type": "stream",
     "text": [
      "(0, 0) 0\n",
      "(0, 1) 1\n",
      "(1, 0) 2\n",
      "(1, 1) 3\n",
      "\n",
      "Сам массив:\n",
      " [[0 1]\n",
      " [2 3]]\n"
     ]
    }
   ],
   "source": [
    "arr = np.arange(4).reshape(2, 2)\n",
    "\n",
    "for index in np.ndindex(arr.shape):\n",
    "    print(index, arr[index])\n",
    "    \n",
    "print('\\nСам массив:\\n', arr)"
   ]
  },
  {
   "cell_type": "markdown",
   "metadata": {},
   "source": [
    "#### 38. Случайно расположить p элементов в 2D массив"
   ]
  },
  {
   "cell_type": "code",
   "execution_count": 97,
   "metadata": {},
   "outputs": [
    {
     "name": "stdout",
     "output_type": "stream",
     "text": [
      "Введите размерность массива5\n",
      "Введите кол-во элементов(p)2\n",
      "[[0. 0. 0. 0. 0.]\n",
      " [0. 0. 0. 0. 0.]\n",
      " [0. 1. 0. 1. 0.]\n",
      " [0. 0. 0. 0. 0.]\n",
      " [0. 0. 0. 0. 0.]]\n"
     ]
    }
   ],
   "source": [
    "size = int(input('Введите размерность массива'))\n",
    "p = int(input('Введите кол-во элементов(p)'))\n",
    "\n",
    "arr = np.zeros((size,size))\n",
    "np.put(arr, np.random.choice(range(size*size), p, replace=False), 1)\n",
    "print(arr)"
   ]
  },
  {
   "cell_type": "markdown",
   "metadata": {},
   "source": [
    "### 39. Отнять среднее из каждой строки в матрице"
   ]
  },
  {
   "cell_type": "code",
   "execution_count": 99,
   "metadata": {},
   "outputs": [
    {
     "name": "stdout",
     "output_type": "stream",
     "text": [
      "Начальная матрица:\n",
      " [[0 6 9 6 4]\n",
      " [3 4 1 4 1]\n",
      " [8 3 0 4 8]\n",
      " [7 6 5 5 7]\n",
      " [6 5 6 4 7]]\n",
      "После вычета среднего: [[-5.   1.   4.   1.  -1. ]\n",
      " [ 0.4  1.4 -1.6  1.4 -1.6]\n",
      " [ 3.4 -1.6 -4.6 -0.6  3.4]\n",
      " [ 1.   0.  -1.  -1.   1. ]\n",
      " [ 0.4 -0.6  0.4 -1.6  1.4]]\n"
     ]
    }
   ],
   "source": [
    "arr = np.random.randint(0, 10, (5, 5))\n",
    "print('Начальная матрица:\\n', arr)\n",
    "print('После вычета среднего:', arr - arr.mean(axis=1, keepdims=True))"
   ]
  },
  {
   "cell_type": "markdown",
   "metadata": {},
   "source": [
    "#### 40. Отсортировать матрицу по n-ому столбцу"
   ]
  },
  {
   "cell_type": "code",
   "execution_count": 130,
   "metadata": {},
   "outputs": [
    {
     "name": "stdout",
     "output_type": "stream",
     "text": [
      "Введите n (учитывая нумерацию с нуля)1\n",
      "Начальная:\n",
      " [[2 6 6 1]\n",
      " [3 4 5 6]\n",
      " [0 5 0 1]\n",
      " [7 5 0 9]]\n",
      "Отсортированная:\n",
      " [[3 4 5 6]\n",
      " [0 5 0 1]\n",
      " [7 5 0 9]\n",
      " [2 6 6 1]]\n"
     ]
    }
   ],
   "source": [
    "arr = np.random.randint(0, 10, (4, 4))\n",
    "n = int(input('Введите n (учитывая нумерацию с нуля)'))\n",
    "print('Начальная:\\n', arr)\n",
    "print('Отсортированная:\\n', arr[arr[:,n].argsort()])"
   ]
  },
  {
   "cell_type": "markdown",
   "metadata": {},
   "source": [
    "#### 41. Определить, есть ли в 2D массиве нулевые столбцы"
   ]
  },
  {
   "cell_type": "code",
   "execution_count": 121,
   "metadata": {},
   "outputs": [
    {
     "name": "stdout",
     "output_type": "stream",
     "text": [
      "[[0 1 0 0 1]\n",
      " [1 0 0 0 0]]\n",
      "\n",
      " True \n",
      "\n",
      "[[2 2 3 9 0 6 8 4 1 5]\n",
      " [3 2 3 3 7 0 2 3 8 9]]\n",
      "\n",
      " False \n",
      "\n"
     ]
    }
   ],
   "source": [
    "arr = np.random.randint(0, 2, (2, 5))\n",
    "print(arr)\n",
    "print('\\n', (~arr.any(axis=0)).any(), '\\n')\n",
    "arr = np.random.randint(0, 10, (2, 10))\n",
    "print(arr)\n",
    "print('\\n', (~arr.any(axis=0)).any(), '\\n')"
   ]
  },
  {
   "cell_type": "markdown",
   "metadata": {},
   "source": [
    "#### 42. Дан массив, добавить 1 к каждому элементу с индексом, заданным в другом массиве (осторожно с повторами)"
   ]
  },
  {
   "cell_type": "code",
   "execution_count": 138,
   "metadata": {},
   "outputs": [
    {
     "name": "stdout",
     "output_type": "stream",
     "text": [
      "Начальный массив:\n",
      " [1 1 1 1 1 1 1 1 1 1]\n",
      "\n",
      "Другой массив:\n",
      " [8 9 7 4 2 3 7 1 9 6 1 3 6 9 0 9 4 9 7 8]\n",
      "\n",
      "Измененный начальный массив:\n",
      " [2 3 2 3 3 1 3 4 3 6]\n"
     ]
    }
   ],
   "source": [
    "arr1 = np.ones(10, int)\n",
    "print('Начальный массив:\\n',arr1)\n",
    "arr2 = np.random.randint(0,len(arr1),20)\n",
    "print('\\nДругой массив:\\n',arr2)\n",
    "arr1 += np.bincount(arr2, minlength=len(arr1))\n",
    "print('\\nИзмененный начальный массив:\\n',arr1)"
   ]
  },
  {
   "cell_type": "markdown",
   "metadata": {},
   "source": [
    "#### 43. Дан массив (w,h,3) (картинка) dtype=ubyte, посчитать количество различных цветов"
   ]
  },
  {
   "cell_type": "code",
   "execution_count": null,
   "metadata": {},
   "outputs": [],
   "source": []
  },
  {
   "cell_type": "markdown",
   "metadata": {},
   "source": [
    "#### 44. Дан четырехмерный массив, посчитать сумму по последним двум осям"
   ]
  },
  {
   "cell_type": "code",
   "execution_count": 112,
   "metadata": {},
   "outputs": [
    {
     "name": "stdout",
     "output_type": "stream",
     "text": [
      "Четырехмерный массив:\n",
      " [[[[9 3 6 1]\n",
      "   [3 3 6 6]\n",
      "   [1 6 1 7]\n",
      "   [8 7 3 3]]\n",
      "\n",
      "  [[5 5 1 1]\n",
      "   [4 3 8 6]\n",
      "   [0 8 7 4]\n",
      "   [5 0 4 7]]\n",
      "\n",
      "  [[4 8 8 4]\n",
      "   [0 6 0 7]\n",
      "   [7 4 7 2]\n",
      "   [4 8 8 5]]\n",
      "\n",
      "  [[2 9 2 8]\n",
      "   [6 6 2 2]\n",
      "   [4 3 4 3]\n",
      "   [7 4 3 3]]]\n",
      "\n",
      "\n",
      " [[[9 5 8 2]\n",
      "   [8 4 4 5]\n",
      "   [0 0 8 3]\n",
      "   [1 1 2 4]]\n",
      "\n",
      "  [[6 0 0 8]\n",
      "   [6 0 0 6]\n",
      "   [7 0 9 2]\n",
      "   [7 3 8 2]]\n",
      "\n",
      "  [[9 7 7 1]\n",
      "   [0 6 9 0]\n",
      "   [7 1 5 2]\n",
      "   [1 4 5 2]]\n",
      "\n",
      "  [[9 4 0 0]\n",
      "   [4 8 1 5]\n",
      "   [0 4 2 2]\n",
      "   [2 6 5 0]]]\n",
      "\n",
      "\n",
      " [[[0 8 4 5]\n",
      "   [3 5 0 2]\n",
      "   [7 2 5 8]\n",
      "   [2 2 6 7]]\n",
      "\n",
      "  [[0 5 1 5]\n",
      "   [4 6 8 4]\n",
      "   [7 5 9 8]\n",
      "   [2 3 7 5]]\n",
      "\n",
      "  [[4 4 6 1]\n",
      "   [1 9 1 2]\n",
      "   [6 5 2 7]\n",
      "   [8 4 8 8]]\n",
      "\n",
      "  [[9 3 4 8]\n",
      "   [2 5 3 9]\n",
      "   [0 2 0 8]\n",
      "   [9 5 6 3]]]\n",
      "\n",
      "\n",
      " [[[9 6 0 9]\n",
      "   [4 4 5 4]\n",
      "   [4 2 9 6]\n",
      "   [2 2 8 4]]\n",
      "\n",
      "  [[1 6 4 6]\n",
      "   [8 3 0 1]\n",
      "   [4 8 1 2]\n",
      "   [3 3 0 8]]\n",
      "\n",
      "  [[2 3 6 2]\n",
      "   [3 0 8 2]\n",
      "   [8 9 6 3]\n",
      "   [7 5 9 8]]\n",
      "\n",
      "  [[5 8 0 9]\n",
      "   [9 9 7 9]\n",
      "   [5 5 0 2]\n",
      "   [9 1 8 3]]]]\n",
      "Сумма:\n",
      " [[73 68 82 68]\n",
      " [64 64 66 52]\n",
      " [66 79 76 76]\n",
      " [78 58 81 89]]\n"
     ]
    }
   ],
   "source": [
    "arr = np.random.randint(0, 10, (4, 4, 4, 4))\n",
    "print('Четырехмерный массив:\\n', arr)\n",
    "sum = arr.reshape(arr.shape[:-2] + (-1,)).sum(axis=-1)\n",
    "print('Сумма:\\n', sum)"
   ]
  },
  {
   "cell_type": "code",
   "execution_count": null,
   "metadata": {},
   "outputs": [],
   "source": []
  }
 ],
 "metadata": {
  "kernelspec": {
   "display_name": "Python 3",
   "language": "python",
   "name": "python3"
  },
  "language_info": {
   "codemirror_mode": {
    "name": "ipython",
    "version": 3
   },
   "file_extension": ".py",
   "mimetype": "text/x-python",
   "name": "python",
   "nbconvert_exporter": "python",
   "pygments_lexer": "ipython3",
   "version": "3.7.4"
  }
 },
 "nbformat": 4,
 "nbformat_minor": 1
}
